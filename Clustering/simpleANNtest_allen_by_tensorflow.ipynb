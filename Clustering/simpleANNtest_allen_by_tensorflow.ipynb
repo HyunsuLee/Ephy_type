{
 "cells": [
  {
   "cell_type": "markdown",
   "metadata": {},
   "source": [
    "# tensorflow implementation for allen eletrophysiology data"
   ]
  },
  {
   "cell_type": "code",
   "execution_count": 1,
   "metadata": {
    "collapsed": true
   },
   "outputs": [],
   "source": [
    "import tensorflow as tf\n",
    "import numpy as np"
   ]
  },
  {
   "cell_type": "code",
   "execution_count": 2,
   "metadata": {
    "collapsed": true
   },
   "outputs": [],
   "source": [
    "trainX = np.loadtxt('cretrainX.csv', delimiter = ',')\n",
    "trainY = np.loadtxt('cretrainY.csv', delimiter = ',')"
   ]
  },
  {
   "cell_type": "code",
   "execution_count": 4,
   "metadata": {
    "collapsed": true
   },
   "outputs": [],
   "source": [
    "testX = np.loadtxt('cretestX.csv', delimiter = ',')\n",
    "testY = np.loadtxt('cretestY.csv', delimiter = ',')"
   ]
  },
  {
   "cell_type": "code",
   "execution_count": 5,
   "metadata": {
    "collapsed": true
   },
   "outputs": [],
   "source": [
    "X = tf.placeholder(tf.float32, [None, 43])\n",
    "Y = tf.placeholder(tf.float32, [None, 2])"
   ]
  },
  {
   "cell_type": "code",
   "execution_count": 6,
   "metadata": {
    "collapsed": true
   },
   "outputs": [],
   "source": [
    "W1 = tf.Variable(tf.random_normal([43, 20], stddev=0.01))\n",
    "# ReLU function for layer 1. 20 nodes.\n",
    "L1 = tf.nn.relu(tf.matmul(X, W1))\n",
    "\n",
    "W2 = tf.Variable(tf.random_normal([20, 10], stddev=0.01))\n",
    "L2 = tf.nn.relu(tf.matmul(L1, W2))\n",
    "\n",
    "W3 = tf.Variable(tf.random_normal([10, 2], stddev=0.01))\n",
    "# binary class(2).\n",
    "model = tf.matmul(L2, W3)\n",
    "\n",
    "cost = tf.reduce_mean(tf.nn.softmax_cross_entropy_with_logits(logits=model, labels=Y))\n",
    "optimizer = tf.train.AdamOptimizer(0.001).minimize(cost)"
   ]
  },
  {
   "cell_type": "code",
   "execution_count": null,
   "metadata": {
    "collapsed": false
   },
   "outputs": [],
   "source": [
    "with tf.Session() as sess:\n",
    "    # you need to initialize all variables\n",
    "    batch_size = 128\n",
    "    total_batch = int(len(trainX) / batch_size)\n",
    "    tf.global_variables_initializer().run()\n",
    "    \n",
    "    for epoch in range(10000):\n",
    "        total_cost = 0\n",
    "        for start, end in zip(range(0, len(trainX), batch_size), \n",
    "                             range(batch_size, len(trainX)+1, batch_size)):\n",
    "            _, cost_val = sess.run([optimizer, cost], feed_dict={X: trainX[start:end]\n",
    "                                                                  , Y: trainY[start:end]})\n",
    "            total_cost += cost_val\n",
    "        if (epoch % 500) == 0:\n",
    "            print('Epoch:', '%04d' % (epoch + 1),\n",
    "              'Avg. cost =', '{:.3f}'.format(total_cost / total_batch))\n",
    "            is_correct = tf.equal(tf.argmax(model, 1), tf.argmax(Y, 1))\n",
    "            accuracy = tf.reduce_mean(tf.cast(is_correct, tf.float32))\n",
    "            print('accuracy:', sess.run(accuracy,feed_dict={X: testX, Y: testY}))\n",
    "\n",
    "    \n",
    "            "
   ]
  },
  {
   "cell_type": "code",
   "execution_count": 16,
   "metadata": {
    "collapsed": false
   },
   "outputs": [
    {
     "name": "stdout",
     "output_type": "stream",
     "text": [
      "('Epoch:', '0001', 'Avg. cost =', '0.692')\n",
      "('accuracy:', 0.6392405)\n",
      "('Epoch:', '0501', 'Avg. cost =', '0.185')\n",
      "('accuracy:', 0.94936705)\n",
      "('Epoch:', '1001', 'Avg. cost =', '0.161')\n",
      "('accuracy:', 0.92405069)\n",
      "('Epoch:', '1501', 'Avg. cost =', '0.143')\n",
      "('accuracy:', 0.92405069)\n",
      "('Epoch:', '2001', 'Avg. cost =', '0.117')\n",
      "('accuracy:', 0.93037987)\n",
      "('Epoch:', '2501', 'Avg. cost =', '0.114')\n",
      "('accuracy:', 0.91772151)\n",
      "('Epoch:', '3001', 'Avg. cost =', '0.106')\n",
      "('accuracy:', 0.90506327)\n",
      "('Epoch:', '3501', 'Avg. cost =', '0.075')\n",
      "('accuracy:', 0.91139245)\n",
      "('Epoch:', '4001', 'Avg. cost =', '0.118')\n",
      "('accuracy:', 0.90506333)\n",
      "('Epoch:', '4501', 'Avg. cost =', '0.049')\n",
      "('accuracy:', 0.91139233)\n"
     ]
    }
   ],
   "source": [
    "with tf.Session() as sess:\n",
    "    # you need to initialize all variables\n",
    "    batch_size = 128\n",
    "    total_batch = int(len(trainX) / batch_size)\n",
    "    tf.global_variables_initializer().run()\n",
    "    \n",
    "    for epoch in range(5000):\n",
    "        total_cost = 0\n",
    "        for start, end in zip(range(0, len(trainX), batch_size), \n",
    "                             range(batch_size, len(trainX)+1, batch_size)):\n",
    "            _, cost_val = sess.run([optimizer, cost], feed_dict={X: trainX[start:end]\n",
    "                                                                  , Y: trainY[start:end]})\n",
    "            total_cost += cost_val\n",
    "        if (epoch % 500) == 0:\n",
    "            print('Epoch:', '%04d' % (epoch + 1),\n",
    "              'Avg. cost =', '{:.3f}'.format(total_cost / total_batch))\n",
    "            is_correct = tf.equal(tf.argmax(model, 1), tf.argmax(Y, 1))\n",
    "            accuracy = tf.reduce_mean(tf.cast(is_correct, tf.float32))\n",
    "            print('accuracy:', sess.run(accuracy,feed_dict={X: testX, Y: testY}))\n",
    "    model_eval = sess.run(model, feed_dict = {X: testX})\n",
    "    model_prob = sess.run(tf.nn.softmax(model_eval))\n",
    "        \n",
    "    # probabilities = tf.so\n"
   ]
  },
  {
   "cell_type": "code",
   "execution_count": 19,
   "metadata": {
    "collapsed": true
   },
   "outputs": [],
   "source": [
    "np.savetxt('model_prob.csv', model_prob, delimiter=',')"
   ]
  },
  {
   "cell_type": "code",
   "execution_count": null,
   "metadata": {
    "collapsed": true
   },
   "outputs": [],
   "source": []
  },
  {
   "cell_type": "code",
   "execution_count": null,
   "metadata": {
    "collapsed": true
   },
   "outputs": [],
   "source": []
  }
 ],
 "metadata": {
  "kernelspec": {
   "display_name": "Python 3",
   "language": "python",
   "name": "python3"
  },
  "language_info": {
   "codemirror_mode": {
    "name": "ipython",
    "version": 3
   },
   "file_extension": ".py",
   "mimetype": "text/x-python",
   "name": "python",
   "nbconvert_exporter": "python",
   "pygments_lexer": "ipython3",
   "version": "3.5.1"
  },
  "varInspector": {
   "cols": {
    "lenName": 16,
    "lenType": 16,
    "lenVar": 40
   },
   "kernels_config": {
    "python": {
     "delete_cmd_postfix": "",
     "delete_cmd_prefix": "del ",
     "library": "var_list.py",
     "varRefreshCmd": "print(var_dic_list())"
    },
    "r": {
     "delete_cmd_postfix": ") ",
     "delete_cmd_prefix": "rm(",
     "library": "var_list.r",
     "varRefreshCmd": "cat(var_dic_list()) "
    }
   },
   "position": {
    "height": "267px",
    "left": "1550px",
    "right": "20px",
    "top": "120px",
    "width": "345px"
   },
   "types_to_exclude": [
    "module",
    "function",
    "builtin_function_or_method",
    "instance",
    "_Feature"
   ],
   "window_display": true
  }
 },
 "nbformat": 4,
 "nbformat_minor": 2
}
