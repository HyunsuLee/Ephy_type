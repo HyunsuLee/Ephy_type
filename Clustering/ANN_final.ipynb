{
 "cells": [
  {
   "cell_type": "markdown",
   "metadata": {},
   "source": [
    "# Final Allen brain electrophysiology data analysis\n",
    "\n",
    "## Data pipeline\n",
    "\n",
    "1. preparing raw data from allen brain institute using AllenSDK [notebook](./allen_data_analysis.ipynb)\n",
    "1. Visualizing raw data using density plot [notebook](./allen_data_analysis.ipynb)\n",
    "1. data processing for tensorflow learning from R data(incheol) [notebook](./data_processing_180227.ipynb)\n",
    "    1. one-hot coding\n",
    "    1. minmax scaling\n",
    "    \n",
    "## ANN learning pipeline\n",
    "\n",
    "1. coarse searching hyperparameter(learning rate and L2 beta) = NO_1_output_input_coarse_searching.py\n",
    "1. fine searching = NO_2_output_input_fine_searching.py\n",
    "1. top 10 model tensorboard logging and model saving = NO_3_output_input_logging.py\n",
    "1. selection top model by inspecting tensorboard log (./logs/output_input/)\n",
    "1. top model restore and choosing best epoch step, saving results = NO_4_output_input_restore.py\n",
    "1. all of the final results in ./results/"
   ]
  },
  {
   "cell_type": "code",
   "execution_count": 19,
   "metadata": {},
   "outputs": [],
   "source": [
    "import numpy as np\n",
    "import matplotlib.pyplot as plt\n",
    "%matplotlib inline\n",
    "from sklearn.metrics import confusion_matrix"
   ]
  },
  {
   "cell_type": "code",
   "execution_count": 20,
   "metadata": {},
   "outputs": [
    {
     "name": "stdout",
     "output_type": "stream",
     "text": [
      "Accuracy: 0.4588\n"
     ]
    }
   ],
   "source": [
    "Eline_full_true = np.loadtxt('./results/EtestY_argmax.csv', delimiter = ',')\n",
    "Eline_full_pred = np.loadtxt('./results/04_4_Eline_full_argmax.csv', delimiter= ',')\n",
    "print('Accuracy:', '{:.4f}'.format(np.array(Eline_full_true == Eline_full_pred).sum()/(len(Eline_full_pred))))"
   ]
  },
  {
   "cell_type": "code",
   "execution_count": 22,
   "metadata": {},
   "outputs": [
    {
     "data": {
      "text/plain": [
       "array([[ 5,  0,  0,  0,  0,  0,  0,  0,  0],\n",
       "       [ 0,  2,  0,  1,  0,  0,  5,  0,  4],\n",
       "       [ 0,  0,  1,  0,  1,  0,  0,  0,  0],\n",
       "       [ 0,  2,  0,  8,  0,  0,  1,  0,  1],\n",
       "       [ 0,  0,  0,  0,  3,  2,  0,  0,  1],\n",
       "       [ 1,  1,  0,  1,  0,  5,  1,  2,  0],\n",
       "       [ 0,  0,  1,  5,  0,  3, 10,  1,  1],\n",
       "       [ 0,  0,  0,  0,  0,  0,  1,  1,  4],\n",
       "       [ 0,  0,  0,  0,  0,  0,  5,  1,  4]])"
      ]
     },
     "execution_count": 22,
     "metadata": {},
     "output_type": "execute_result"
    }
   ],
   "source": [
    "confusion_matrix(Eline_full_true, Eline_full_pred)"
   ]
  },
  {
   "cell_type": "code",
   "execution_count": 23,
   "metadata": {},
   "outputs": [
    {
     "name": "stdout",
     "output_type": "stream",
     "text": [
      "Accuracy: 0.4588\n"
     ]
    }
   ],
   "source": [
    "Eline_long_true = np.loadtxt('./results/Etest_longY_argmax.csv', delimiter = ',')\n",
    "Eline_long_pred = np.loadtxt('./results/05_4_Eline_long_argmax.csv', delimiter= ',')\n",
    "print('Accuracy:', '{:.4f}'.format(np.array(Eline_long_true == Eline_long_pred).sum()/(len(Eline_long_pred))))"
   ]
  },
  {
   "cell_type": "code",
   "execution_count": 24,
   "metadata": {},
   "outputs": [
    {
     "data": {
      "text/plain": [
       "array([[ 4,  0,  0,  0,  0,  0,  1,  0,  0],\n",
       "       [ 0,  2,  0,  6,  0,  0,  3,  1,  0],\n",
       "       [ 0,  0,  0,  0,  0,  0,  2,  0,  0],\n",
       "       [ 0,  0,  0,  8,  0,  0,  2,  0,  2],\n",
       "       [ 0,  0,  0,  0,  4,  2,  0,  0,  0],\n",
       "       [ 0,  3,  0,  1,  0,  7,  0,  0,  0],\n",
       "       [ 0,  1,  0,  1,  0,  4, 12,  1,  2],\n",
       "       [ 1,  0,  0,  1,  0,  1,  1,  0,  2],\n",
       "       [ 0,  0,  0,  3,  1,  0,  4,  0,  2]])"
      ]
     },
     "execution_count": 24,
     "metadata": {},
     "output_type": "execute_result"
    }
   ],
   "source": [
    "confusion_matrix(Eline_long_true, Eline_long_pred)"
   ]
  },
  {
   "cell_type": "code",
   "execution_count": 38,
   "metadata": {},
   "outputs": [
    {
     "name": "stdout",
     "output_type": "stream",
     "text": [
      "Accuracy: 0.3882\n"
     ]
    }
   ],
   "source": [
    "Eline_short_true = np.loadtxt('./results/Etest_shortY_argmax.csv', delimiter = ',')\n",
    "Eline_short_pred = np.loadtxt('./results/06_4_Eline_short_argmax.csv', delimiter= ',')\n",
    "print('Accuracy:', '{:.4f}'.format(np.array(Eline_short_true == Eline_short_pred).sum()/(len(Eline_short_pred))))"
   ]
  },
  {
   "cell_type": "code",
   "execution_count": 39,
   "metadata": {},
   "outputs": [
    {
     "data": {
      "text/plain": [
       "array([[ 2,  0,  0,  0,  0,  0,  3,  0,  0],\n",
       "       [ 1,  0,  0,  5,  0,  1,  5,  0,  0],\n",
       "       [ 0,  0,  0,  0,  0,  0,  2,  0,  0],\n",
       "       [ 0,  0,  0,  7,  0,  1,  4,  0,  0],\n",
       "       [ 0,  0,  1,  0,  3,  1,  1,  0,  0],\n",
       "       [ 1,  0,  0,  0,  2,  8,  0,  0,  0],\n",
       "       [ 1,  0,  0,  2,  2,  3, 13,  0,  0],\n",
       "       [ 1,  0,  0,  0,  0,  1,  4,  0,  0],\n",
       "       [ 0,  0,  0,  1,  0,  3,  6,  0,  0]])"
      ]
     },
     "execution_count": 39,
     "metadata": {},
     "output_type": "execute_result"
    }
   ],
   "source": [
    "confusion_matrix(Eline_short_true, Eline_short_pred)"
   ]
  },
  {
   "cell_type": "code",
   "execution_count": 40,
   "metadata": {},
   "outputs": [
    {
     "name": "stdout",
     "output_type": "stream",
     "text": [
      "Accuracy: 0.4706\n"
     ]
    }
   ],
   "source": [
    "Eline_ramp_true = np.loadtxt('./results/Etest_rampY_argmax.csv', delimiter = ',')\n",
    "Eline_ramp_pred = np.loadtxt('./results/07_4_Eline_ramp_argmax.csv', delimiter= ',')\n",
    "print('Accuracy:', '{:.4f}'.format(np.array(Eline_ramp_true == Eline_ramp_pred).sum()/(len(Eline_ramp_pred))))"
   ]
  },
  {
   "cell_type": "code",
   "execution_count": 41,
   "metadata": {},
   "outputs": [
    {
     "data": {
      "text/plain": [
       "array([[ 5,  0,  0,  0,  0,  0,  0,  0,  0],\n",
       "       [ 0,  0,  0,  3,  0,  1,  8,  0,  0],\n",
       "       [ 0,  0,  2,  0,  0,  0,  0,  0,  0],\n",
       "       [ 0,  0,  0,  8,  0,  0,  3,  0,  1],\n",
       "       [ 0,  0,  1,  0,  5,  0,  0,  0,  0],\n",
       "       [ 1,  0,  1,  0,  0,  5,  4,  0,  0],\n",
       "       [ 0,  0,  1,  3,  3,  0, 14,  0,  0],\n",
       "       [ 0,  1,  0,  0,  0,  0,  5,  0,  0],\n",
       "       [ 1,  0,  0,  2,  0,  0,  6,  0,  1]])"
      ]
     },
     "execution_count": 41,
     "metadata": {},
     "output_type": "execute_result"
    }
   ],
   "source": [
    "confusion_matrix(Eline_ramp_true, Eline_ramp_pred)"
   ]
  },
  {
   "cell_type": "code",
   "execution_count": 43,
   "metadata": {},
   "outputs": [
    {
     "name": "stdout",
     "output_type": "stream",
     "text": [
      "Accuracy: 0.7077\n"
     ]
    }
   ],
   "source": [
    "Iline_full_true = np.loadtxt('./results/ItestY_argmax.csv', delimiter = ',')\n",
    "Iline_full_pred = np.loadtxt('./results/08_4_Iline_full_argmax.csv', delimiter= ',')\n",
    "print('Accuracy:', '{:.4f}'.format(np.array(Iline_full_true == Iline_full_pred).sum()/(len(Iline_full_pred))))"
   ]
  },
  {
   "cell_type": "code",
   "execution_count": 45,
   "metadata": {},
   "outputs": [
    {
     "data": {
      "text/plain": [
       "array([[ 0,  0,  0,  0,  0,  0,  1,  0],\n",
       "       [ 0,  1,  0,  0,  2,  0,  2,  0],\n",
       "       [ 0,  0,  0,  0,  0,  0,  1,  0],\n",
       "       [ 0,  0,  0,  9,  0,  1,  4,  0],\n",
       "       [ 0,  0,  0,  0,  2,  2,  0,  0],\n",
       "       [ 0,  0,  0,  0,  0, 18,  2,  0],\n",
       "       [ 0,  0,  0,  0,  0,  1, 16,  0],\n",
       "       [ 0,  0,  0,  3,  0,  0,  0,  0]])"
      ]
     },
     "execution_count": 45,
     "metadata": {},
     "output_type": "execute_result"
    }
   ],
   "source": [
    "confusion_matrix(Iline_full_true, Iline_full_pred)"
   ]
  },
  {
   "cell_type": "code",
   "execution_count": 46,
   "metadata": {},
   "outputs": [
    {
     "name": "stdout",
     "output_type": "stream",
     "text": [
      "Accuracy: 0.6923\n"
     ]
    }
   ],
   "source": [
    "Iline_long_true = np.loadtxt('./results/Itest_longY_argmax.csv', delimiter = ',')\n",
    "Iline_long_pred = np.loadtxt('./results/09_4_Iline_long_argmax.csv', delimiter= ',')\n",
    "print('Accuracy:', '{:.4f}'.format(np.array(Iline_long_true == Iline_long_pred).sum()/(len(Iline_long_pred))))"
   ]
  },
  {
   "cell_type": "code",
   "execution_count": 47,
   "metadata": {},
   "outputs": [
    {
     "data": {
      "text/plain": [
       "array([[ 0,  0,  0,  1,  0,  0,  0,  0],\n",
       "       [ 0,  0,  0,  2,  0,  0,  3,  0],\n",
       "       [ 0,  0,  0,  1,  0,  0,  0,  0],\n",
       "       [ 0,  0,  0, 11,  0,  1,  2,  0],\n",
       "       [ 0,  0,  0,  0,  2,  2,  0,  0],\n",
       "       [ 0,  0,  0,  0,  0, 20,  0,  0],\n",
       "       [ 0,  0,  0,  4,  0,  1, 12,  0],\n",
       "       [ 0,  0,  0,  3,  0,  0,  0,  0]])"
      ]
     },
     "execution_count": 47,
     "metadata": {},
     "output_type": "execute_result"
    }
   ],
   "source": [
    "confusion_matrix(Iline_long_true, Iline_long_pred)"
   ]
  },
  {
   "cell_type": "code",
   "execution_count": 48,
   "metadata": {},
   "outputs": [
    {
     "name": "stdout",
     "output_type": "stream",
     "text": [
      "Accuracy: 0.6615\n"
     ]
    }
   ],
   "source": [
    "Iline_short_true = np.loadtxt('./results/Itest_shortY_argmax.csv', delimiter = ',')\n",
    "Iline_short_pred = np.loadtxt('./results/10_4_Iline_short_argmax.csv', delimiter= ',')\n",
    "print('Accuracy:', '{:.4f}'.format(np.array(Iline_short_true == Iline_short_pred).sum()/(len(Iline_short_pred))))"
   ]
  },
  {
   "cell_type": "code",
   "execution_count": 49,
   "metadata": {},
   "outputs": [
    {
     "data": {
      "text/plain": [
       "array([[ 0,  0,  0,  1,  0,  0,  0,  0],\n",
       "       [ 0,  3,  0,  2,  0,  0,  0,  0],\n",
       "       [ 0,  0,  0,  0,  0,  0,  1,  0],\n",
       "       [ 0,  0,  0, 10,  0,  1,  3,  0],\n",
       "       [ 0,  0,  0,  1,  1,  1,  1,  0],\n",
       "       [ 0,  0,  0,  0,  0, 18,  2,  0],\n",
       "       [ 0,  0,  0,  2,  1,  3, 11,  0],\n",
       "       [ 0,  0,  0,  3,  0,  0,  0,  0]])"
      ]
     },
     "execution_count": 49,
     "metadata": {},
     "output_type": "execute_result"
    }
   ],
   "source": [
    "confusion_matrix(Iline_short_true, Iline_short_pred)"
   ]
  },
  {
   "cell_type": "code",
   "execution_count": 51,
   "metadata": {},
   "outputs": [
    {
     "name": "stdout",
     "output_type": "stream",
     "text": [
      "Accuracy: 0.6923\n"
     ]
    }
   ],
   "source": [
    "Iline_ramp_true = np.loadtxt('./results/Itest_rampY_argmax.csv', delimiter = ',')\n",
    "Iline_ramp_pred = np.loadtxt('./results/11_4_Iline_ramp_argmax.csv', delimiter= ',')\n",
    "print('Accuracy:', '{:.4f}'.format(np.array(Iline_ramp_true == Iline_ramp_pred).sum()/(len(Iline_ramp_pred))))"
   ]
  },
  {
   "cell_type": "code",
   "execution_count": 52,
   "metadata": {},
   "outputs": [
    {
     "data": {
      "text/plain": [
       "array([[ 0,  0,  0,  1,  0,  0,  0,  0],\n",
       "       [ 0,  1,  0,  3,  0,  0,  1,  0],\n",
       "       [ 0,  0,  0,  0,  0,  0,  1,  0],\n",
       "       [ 0,  0,  0, 11,  0,  1,  2,  0],\n",
       "       [ 0,  0,  0,  2,  0,  2,  0,  0],\n",
       "       [ 0,  0,  0,  0,  0, 18,  2,  0],\n",
       "       [ 0,  0,  0,  2,  0,  0, 15,  0],\n",
       "       [ 0,  0,  0,  3,  0,  0,  0,  0]])"
      ]
     },
     "execution_count": 52,
     "metadata": {},
     "output_type": "execute_result"
    }
   ],
   "source": [
    "confusion_matrix(Iline_ramp_true, Iline_ramp_pred)"
   ]
  },
  {
   "cell_type": "code",
   "execution_count": null,
   "metadata": {},
   "outputs": [],
   "source": []
  }
 ],
 "metadata": {
  "kernelspec": {
   "display_name": "Python 3",
   "language": "python",
   "name": "python3"
  },
  "language_info": {
   "codemirror_mode": {
    "name": "ipython",
    "version": 3
   },
   "file_extension": ".py",
   "mimetype": "text/x-python",
   "name": "python",
   "nbconvert_exporter": "python",
   "pygments_lexer": "ipython3",
   "version": "3.6.4"
  }
 },
 "nbformat": 4,
 "nbformat_minor": 2
}
