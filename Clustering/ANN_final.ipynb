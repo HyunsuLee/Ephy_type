{
 "cells": [
  {
   "cell_type": "markdown",
   "metadata": {},
   "source": [
    "# Final Allen brain electrophysiology data analysis\n",
    "\n",
    "## Data pipeline\n",
    "\n",
    "1. preparing raw data from allen brain institute using AllenSDK [notebook](./allen_data_analysis.ipynb)\n",
    "1. Visualizing raw data using density plot [notebook](./allen_data_analysis.ipynb)\n",
    "1. data processing for tensorflow learning from R data(incheol) [notebook](./data_processing_180227.ipynb)\n",
    "1. minmax scaling process [notebook](./minmaxScaling_process.ipynb)\n",
    "\n",
    "## ANN learning pipeline\n",
    "\n",
    "1. coarse searching hyperparameter(learning rate and L2 beta) = NO_1_output_input_coarse_searching.py\n",
    "1. fine searching = NO_2_output_input_fine_searching.py\n",
    "1. top 10 model tensorboard logging and model saving = NO_3_output_input_logging.py\n",
    "1. selection top model by inspecting tensorboard log (./logs/output_input/)\n",
    "1. top model restore and choosing best epoch step, saving results = NO_4_output_input_restore.py\n",
    "1. all of the final results in ./results/"
   ]
  }
 ],
 "metadata": {
  "kernelspec": {
   "display_name": "Python 3",
   "language": "python",
   "name": "python3"
  },
  "language_info": {
   "codemirror_mode": {
    "name": "ipython",
    "version": 3
   },
   "file_extension": ".py",
   "mimetype": "text/x-python",
   "name": "python",
   "nbconvert_exporter": "python",
   "pygments_lexer": "ipython3",
   "version": "3.5.1"
  }
 },
 "nbformat": 4,
 "nbformat_minor": 2
}
