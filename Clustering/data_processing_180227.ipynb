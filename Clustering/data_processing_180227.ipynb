{
 "cells": [
  {
   "cell_type": "markdown",
   "metadata": {},
   "source": [
    "# Data processing for tensorflow\n",
    "## from newly prepared data from rserver by incheol.\n",
    "\n",
    "* 2018-2-26\n",
    "\n",
    "1. data load\n",
    "2. making one hot coding y-label\n",
    "3. minmax scaling\n",
    "4. save data"
   ]
  },
  {
   "cell_type": "code",
   "execution_count": 51,
   "metadata": {
    "collapsed": true
   },
   "outputs": [],
   "source": [
    "import numpy as np\n",
    "import pandas as pd\n",
    "import os"
   ]
  },
  {
   "cell_type": "code",
   "execution_count": 108,
   "metadata": {
    "collapsed": true
   },
   "outputs": [],
   "source": [
    "data_path = './180226rdata/'\n",
    "data_file_list = os.listdir(data_path)\n",
    "data_name_list = [names[0:-4] for names in data_file_list]"
   ]
  },
  {
   "cell_type": "code",
   "execution_count": 96,
   "metadata": {
    "collapsed": false
   },
   "outputs": [],
   "source": [
    "df_list = []"
   ]
  },
  {
   "cell_type": "code",
   "execution_count": 145,
   "metadata": {
    "collapsed": false
   },
   "outputs": [
    {
     "name": "stdout",
     "output_type": "stream",
     "text": [
      "Excitatory\n",
      "[0. 1.]\n",
      "Excitatory\n",
      "[0. 1.]\n",
      "Excitatory\n",
      "[0. 1.]\n",
      "Excitatory\n",
      "[0. 1.]\n",
      "Inhibitory\n",
      "[1. 0.]\n",
      "Inhibitory\n",
      "[1. 0.]\n",
      "Inhibitory\n",
      "[1. 0.]\n",
      "Inhibitory\n",
      "[1. 0.]\n"
     ]
    }
   ],
   "source": [
    "for file_name in data_file_list:\n",
    "    if file_name[0] == 'B':\n",
    "        data_frame = pd.read_csv(data_path+file_name)\n",
    "        data_frameX = data_frame.drop(['Unnamed: 0', 'binary_neuron'], axis = 1)\n",
    "        data_frameX = np.array(data_frameX)\n",
    "        data_frameY = data_frame['binary_neuron']\n",
    "        data_frameY = np.array(data_frameY.str.contains('E').astype(int))\n",
    "        data_frameY = np.eye(2)[data_frameY]\n",
    "        '''\n",
    "        TODO. np.savetxt로 csv파일 저장하기. \n",
    "        '''"
   ]
  },
  {
   "cell_type": "code",
   "execution_count": null,
   "metadata": {
    "collapsed": true
   },
   "outputs": [],
   "source": []
  },
  {
   "cell_type": "code",
   "execution_count": null,
   "metadata": {
    "collapsed": true
   },
   "outputs": [],
   "source": []
  },
  {
   "cell_type": "code",
   "execution_count": 5,
   "metadata": {
    "collapsed": false
   },
   "outputs": [],
   "source": [
    "Btrain = pd.read_csv('./180226rdata/Btrain.csv')"
   ]
  },
  {
   "cell_type": "code",
   "execution_count": 142,
   "metadata": {
    "collapsed": false
   },
   "outputs": [
    {
     "data": {
      "text/plain": [
       "array([[1., 0.],\n",
       "       [1., 0.],\n",
       "       [1., 0.],\n",
       "       ...,\n",
       "       [0., 1.],\n",
       "       [0., 1.],\n",
       "       [0., 1.]])"
      ]
     },
     "execution_count": 142,
     "metadata": {},
     "output_type": "execute_result"
    }
   ],
   "source": [
    "BtrainY = Btrain['binary_neuron']\n",
    "\n",
    "np.eye(2)[np.array(BtrainY.str.contains('E').astype(int))]\n"
   ]
  },
  {
   "cell_type": "code",
   "execution_count": 12,
   "metadata": {
    "collapsed": false
   },
   "outputs": [],
   "source": [
    "BtrainX = np.array(BtrainX)"
   ]
  },
  {
   "cell_type": "code",
   "execution_count": 47,
   "metadata": {
    "collapsed": true
   },
   "outputs": [],
   "source": [
    "def binary_neuron_data_process(path_dir):\n",
    "    '''\n",
    "    input : data directory path\n",
    "    output : X, Y labeled data for tensorflow processing(minmax scaling)\n",
    "    '''\n",
    "    temp = os.listdir(path_dir)[0]\n",
    "    data_frame = pd.read_csv(path_dir + temp)\n",
    "    \n",
    "    return data_frame"
   ]
  },
  {
   "cell_type": "code",
   "execution_count": 35,
   "metadata": {
    "collapsed": false
   },
   "outputs": [
    {
     "name": "stdout",
     "output_type": "stream",
     "text": [
      "Unnamed: 0\n",
      "adaptation\n",
      "avg_isi\n",
      "f_i_curve_slope\n",
      "fast_trough_t_long_square\n",
      "fast_trough_t_ramp\n",
      "fast_trough_t_short_square\n",
      "fast_trough_v_long_square\n",
      "fast_trough_v_ramp\n",
      "fast_trough_v_short_square\n",
      "input_resistance_mohm\n",
      "latency\n",
      "peak_t_long_square\n",
      "peak_t_ramp\n",
      "peak_t_short_square\n",
      "peak_v_long_square\n",
      "peak_v_ramp\n",
      "peak_v_short_square\n",
      "ri\n",
      "sag\n",
      "slow_trough_t_short_square\n",
      "slow_trough_v_short_square\n",
      "threshold_i_long_square\n",
      "threshold_i_ramp\n",
      "threshold_i_short_square\n",
      "threshold_t_long_square\n",
      "threshold_t_ramp\n",
      "threshold_t_short_square\n",
      "threshold_v_long_square\n",
      "threshold_v_ramp\n",
      "threshold_v_short_square\n",
      "trough_t_long_square\n",
      "trough_t_ramp\n",
      "trough_t_short_square\n",
      "trough_v_long_square\n",
      "trough_v_ramp\n",
      "trough_v_short_square\n",
      "upstroke_downstroke_ratio_long_square\n",
      "upstroke_downstroke_ratio_ramp\n",
      "upstroke_downstroke_ratio_short_square\n",
      "vm_for_sag\n",
      "vrest\n",
      "height\n",
      "binary_neuron\n",
      "firing_rate\n"
     ]
    }
   ],
   "source": [
    "for name in Btrain.columns:\n",
    "    print(name)"
   ]
  },
  {
   "cell_type": "code",
   "execution_count": 48,
   "metadata": {
    "collapsed": false
   },
   "outputs": [],
   "source": []
  },
  {
   "cell_type": "code",
   "execution_count": 49,
   "metadata": {
    "collapsed": false
   },
   "outputs": [
    {
     "name": "stdout",
     "output_type": "stream",
     "text": [
      "<class 'pandas.core.frame.DataFrame'>\n",
      "RangeIndex: 158 entries, 0 to 157\n",
      "Data columns (total 45 columns):\n",
      "Unnamed: 0                                158 non-null int64\n",
      "adaptation                                158 non-null float64\n",
      "avg_isi                                   158 non-null float64\n",
      "f_i_curve_slope                           158 non-null float64\n",
      "fast_trough_t_long_square                 158 non-null float64\n",
      "fast_trough_t_ramp                        158 non-null float64\n",
      "fast_trough_t_short_square                158 non-null float64\n",
      "fast_trough_v_long_square                 158 non-null float64\n",
      "fast_trough_v_ramp                        158 non-null float64\n",
      "fast_trough_v_short_square                158 non-null float64\n",
      "input_resistance_mohm                     158 non-null float64\n",
      "latency                                   158 non-null float64\n",
      "peak_t_long_square                        158 non-null float64\n",
      "peak_t_ramp                               158 non-null float64\n",
      "peak_t_short_square                       158 non-null float64\n",
      "peak_v_long_square                        158 non-null float64\n",
      "peak_v_ramp                               158 non-null float64\n",
      "peak_v_short_square                       158 non-null float64\n",
      "ri                                        158 non-null float64\n",
      "sag                                       158 non-null float64\n",
      "slow_trough_t_short_square                158 non-null float64\n",
      "slow_trough_v_short_square                158 non-null float64\n",
      "threshold_i_long_square                   158 non-null float64\n",
      "threshold_i_ramp                          158 non-null float64\n",
      "threshold_i_short_square                  158 non-null float64\n",
      "threshold_t_long_square                   158 non-null float64\n",
      "threshold_t_ramp                          158 non-null float64\n",
      "threshold_t_short_square                  158 non-null float64\n",
      "threshold_v_long_square                   158 non-null float64\n",
      "threshold_v_ramp                          158 non-null float64\n",
      "threshold_v_short_square                  158 non-null float64\n",
      "trough_t_long_square                      158 non-null float64\n",
      "trough_t_ramp                             158 non-null float64\n",
      "trough_t_short_square                     158 non-null float64\n",
      "trough_v_long_square                      158 non-null float64\n",
      "trough_v_ramp                             158 non-null float64\n",
      "trough_v_short_square                     158 non-null float64\n",
      "upstroke_downstroke_ratio_long_square     158 non-null float64\n",
      "upstroke_downstroke_ratio_ramp            158 non-null float64\n",
      "upstroke_downstroke_ratio_short_square    158 non-null float64\n",
      "vm_for_sag                                158 non-null float64\n",
      "vrest                                     158 non-null float64\n",
      "height                                    158 non-null float64\n",
      "binary_neuron                             158 non-null object\n",
      "firing_rate                               158 non-null float64\n",
      "dtypes: float64(43), int64(1), object(1)\n",
      "memory usage: 55.6+ KB\n"
     ]
    }
   ],
   "source": []
  },
  {
   "cell_type": "code",
   "execution_count": null,
   "metadata": {
    "collapsed": true
   },
   "outputs": [],
   "source": []
  },
  {
   "cell_type": "code",
   "execution_count": null,
   "metadata": {
    "collapsed": true
   },
   "outputs": [],
   "source": []
  },
  {
   "cell_type": "code",
   "execution_count": null,
   "metadata": {
    "collapsed": true
   },
   "outputs": [],
   "source": []
  },
  {
   "cell_type": "code",
   "execution_count": null,
   "metadata": {
    "collapsed": true
   },
   "outputs": [],
   "source": []
  },
  {
   "cell_type": "code",
   "execution_count": 27,
   "metadata": {
    "collapsed": false
   },
   "outputs": [],
   "source": []
  },
  {
   "cell_type": "code",
   "execution_count": 28,
   "metadata": {
    "collapsed": false
   },
   "outputs": [
    {
     "name": "stdout",
     "output_type": "stream",
     "text": [
      "<class 'pandas.core.frame.DataFrame'>\n",
      "RangeIndex: 634 entries, 0 to 633\n",
      "Data columns (total 45 columns):\n",
      "Unnamed: 0                                634 non-null int64\n",
      "adaptation                                634 non-null float64\n",
      "avg_isi                                   634 non-null float64\n",
      "f_i_curve_slope                           634 non-null float64\n",
      "fast_trough_t_long_square                 634 non-null float64\n",
      "fast_trough_t_ramp                        634 non-null float64\n",
      "fast_trough_t_short_square                634 non-null float64\n",
      "fast_trough_v_long_square                 634 non-null float64\n",
      "fast_trough_v_ramp                        634 non-null float64\n",
      "fast_trough_v_short_square                634 non-null float64\n",
      "input_resistance_mohm                     634 non-null float64\n",
      "latency                                   634 non-null float64\n",
      "peak_t_long_square                        634 non-null float64\n",
      "peak_t_ramp                               634 non-null float64\n",
      "peak_t_short_square                       634 non-null float64\n",
      "peak_v_long_square                        634 non-null float64\n",
      "peak_v_ramp                               634 non-null float64\n",
      "peak_v_short_square                       634 non-null float64\n",
      "ri                                        634 non-null float64\n",
      "sag                                       634 non-null float64\n",
      "slow_trough_t_short_square                634 non-null float64\n",
      "slow_trough_v_short_square                634 non-null float64\n",
      "threshold_i_long_square                   634 non-null float64\n",
      "threshold_i_ramp                          634 non-null float64\n",
      "threshold_i_short_square                  634 non-null float64\n",
      "threshold_t_long_square                   634 non-null float64\n",
      "threshold_t_ramp                          634 non-null float64\n",
      "threshold_t_short_square                  634 non-null float64\n",
      "threshold_v_long_square                   634 non-null float64\n",
      "threshold_v_ramp                          634 non-null float64\n",
      "threshold_v_short_square                  634 non-null float64\n",
      "trough_t_long_square                      634 non-null float64\n",
      "trough_t_ramp                             634 non-null float64\n",
      "trough_t_short_square                     634 non-null float64\n",
      "trough_v_long_square                      634 non-null float64\n",
      "trough_v_ramp                             634 non-null float64\n",
      "trough_v_short_square                     634 non-null float64\n",
      "upstroke_downstroke_ratio_long_square     634 non-null float64\n",
      "upstroke_downstroke_ratio_ramp            634 non-null float64\n",
      "upstroke_downstroke_ratio_short_square    634 non-null float64\n",
      "vm_for_sag                                634 non-null float64\n",
      "vrest                                     634 non-null float64\n",
      "height                                    634 non-null float64\n",
      "binary_neuron                             634 non-null object\n",
      "firing_rate                               634 non-null float64\n",
      "dtypes: float64(43), int64(1), object(1)\n",
      "memory usage: 223.0+ KB\n"
     ]
    }
   ],
   "source": []
  },
  {
   "cell_type": "code",
   "execution_count": null,
   "metadata": {
    "collapsed": true
   },
   "outputs": [],
   "source": []
  },
  {
   "cell_type": "code",
   "execution_count": null,
   "metadata": {
    "collapsed": true
   },
   "outputs": [],
   "source": []
  },
  {
   "cell_type": "code",
   "execution_count": null,
   "metadata": {
    "collapsed": true
   },
   "outputs": [],
   "source": []
  },
  {
   "cell_type": "code",
   "execution_count": null,
   "metadata": {
    "collapsed": true
   },
   "outputs": [],
   "source": []
  },
  {
   "cell_type": "code",
   "execution_count": null,
   "metadata": {
    "collapsed": true
   },
   "outputs": [],
   "source": []
  },
  {
   "cell_type": "code",
   "execution_count": null,
   "metadata": {
    "collapsed": true
   },
   "outputs": [],
   "source": []
  },
  {
   "cell_type": "code",
   "execution_count": null,
   "metadata": {
    "collapsed": true
   },
   "outputs": [],
   "source": []
  },
  {
   "cell_type": "code",
   "execution_count": null,
   "metadata": {
    "collapsed": true
   },
   "outputs": [],
   "source": []
  },
  {
   "cell_type": "code",
   "execution_count": null,
   "metadata": {
    "collapsed": true
   },
   "outputs": [],
   "source": []
  },
  {
   "cell_type": "code",
   "execution_count": null,
   "metadata": {
    "collapsed": true
   },
   "outputs": [],
   "source": []
  },
  {
   "cell_type": "code",
   "execution_count": null,
   "metadata": {
    "collapsed": true
   },
   "outputs": [],
   "source": []
  },
  {
   "cell_type": "code",
   "execution_count": null,
   "metadata": {
    "collapsed": true
   },
   "outputs": [],
   "source": []
  },
  {
   "cell_type": "code",
   "execution_count": null,
   "metadata": {
    "collapsed": true
   },
   "outputs": [],
   "source": []
  },
  {
   "cell_type": "code",
   "execution_count": null,
   "metadata": {
    "collapsed": true
   },
   "outputs": [],
   "source": []
  },
  {
   "cell_type": "code",
   "execution_count": null,
   "metadata": {
    "collapsed": true
   },
   "outputs": [],
   "source": []
  }
 ],
 "metadata": {
  "kernelspec": {
   "display_name": "Python 3",
   "language": "python",
   "name": "python3"
  },
  "language_info": {
   "codemirror_mode": {
    "name": "ipython",
    "version": 3
   },
   "file_extension": ".py",
   "mimetype": "text/x-python",
   "name": "python",
   "nbconvert_exporter": "python",
   "pygments_lexer": "ipython3",
   "version": "3.5.1"
  },
  "varInspector": {
   "cols": {
    "lenName": 16,
    "lenType": 16,
    "lenVar": 40
   },
   "kernels_config": {
    "python": {
     "delete_cmd_postfix": "",
     "delete_cmd_prefix": "del ",
     "library": "var_list.py",
     "varRefreshCmd": "print(var_dic_list())"
    },
    "r": {
     "delete_cmd_postfix": ") ",
     "delete_cmd_prefix": "rm(",
     "library": "var_list.r",
     "varRefreshCmd": "cat(var_dic_list()) "
    }
   },
   "position": {
    "height": "523px",
    "left": "1550px",
    "right": "20px",
    "top": "120px",
    "width": "343px"
   },
   "types_to_exclude": [
    "module",
    "function",
    "builtin_function_or_method",
    "instance",
    "_Feature"
   ],
   "window_display": true
  }
 },
 "nbformat": 4,
 "nbformat_minor": 0
}
