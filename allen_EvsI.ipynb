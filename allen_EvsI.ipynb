{
 "cells": [
  {
   "cell_type": "markdown",
   "metadata": {},
   "source": [
    "# Inhibitory vs Exitatory\n",
    "\n",
    "### creline reporter positive only"
   ]
  },
  {
   "cell_type": "code",
   "execution_count": 1,
   "metadata": {
    "collapsed": true
   },
   "outputs": [],
   "source": [
    "%matplotlib inline\n",
    "\n",
    "import numpy as np\n",
    "import pandas as pd\n",
    "import matplotlib.pyplot as plt"
   ]
  },
  {
   "cell_type": "markdown",
   "metadata": {},
   "source": [
    "### Data load & check"
   ]
  },
  {
   "cell_type": "code",
   "execution_count": 2,
   "metadata": {
    "collapsed": false
   },
   "outputs": [
    {
     "data": {
      "text/html": [
       "<div>\n",
       "<table border=\"1\" class=\"dataframe\">\n",
       "  <thead>\n",
       "    <tr style=\"text-align: right;\">\n",
       "      <th></th>\n",
       "      <th>line_name</th>\n",
       "      <th>specimen__id</th>\n",
       "      <th>specimen__name</th>\n",
       "      <th>specimen__hemisphere</th>\n",
       "      <th>structure__id</th>\n",
       "      <th>structure__name</th>\n",
       "      <th>structure__acronym</th>\n",
       "      <th>structure_parent__id</th>\n",
       "      <th>structure_parent__acronym</th>\n",
       "      <th>structure__layer</th>\n",
       "      <th>...</th>\n",
       "      <th>cell_reporter_status</th>\n",
       "      <th>m__glif</th>\n",
       "      <th>m__biophys_perisomatic</th>\n",
       "      <th>m__biophys_all_active</th>\n",
       "      <th>tag__apical</th>\n",
       "      <th>tag__dendrite_type</th>\n",
       "      <th>morph_thumb_path</th>\n",
       "      <th>ephys_thumb_path</th>\n",
       "      <th>ephys_inst_thresh_thumb_path</th>\n",
       "      <th>id</th>\n",
       "    </tr>\n",
       "  </thead>\n",
       "  <tbody>\n",
       "    <tr>\n",
       "      <th>0</th>\n",
       "      <td>Scnn1a-Tg2-Cre</td>\n",
       "      <td>313862022</td>\n",
       "      <td>Scnn1a-Tg2-Cre;Ai14-167081.03.02.01</td>\n",
       "      <td>right</td>\n",
       "      <td>721</td>\n",
       "      <td>Primary visual area, layer 4</td>\n",
       "      <td>VISp4</td>\n",
       "      <td>385</td>\n",
       "      <td>VISp</td>\n",
       "      <td>4</td>\n",
       "      <td>...</td>\n",
       "      <td>cre reporter positive</td>\n",
       "      <td>0</td>\n",
       "      <td>1</td>\n",
       "      <td>0</td>\n",
       "      <td>intact</td>\n",
       "      <td>spiny</td>\n",
       "      <td>/api/v2/well_known_file_download/487659609</td>\n",
       "      <td>/api/v2/well_known_file_download/487623088</td>\n",
       "      <td>/api/v2/well_known_file_download/491376069</td>\n",
       "      <td>606</td>\n",
       "    </tr>\n",
       "    <tr>\n",
       "      <th>1</th>\n",
       "      <td>Rorb-IRES2-Cre</td>\n",
       "      <td>479508018</td>\n",
       "      <td>Rorb-IRES2-Cre-D;Ai14-196662.03.01.01</td>\n",
       "      <td>left</td>\n",
       "      <td>721</td>\n",
       "      <td>Primary visual area, layer 4</td>\n",
       "      <td>VISp4</td>\n",
       "      <td>385</td>\n",
       "      <td>VISp</td>\n",
       "      <td>4</td>\n",
       "      <td>...</td>\n",
       "      <td>cre reporter positive</td>\n",
       "      <td>2</td>\n",
       "      <td>0</td>\n",
       "      <td>0</td>\n",
       "      <td>intact</td>\n",
       "      <td>spiny</td>\n",
       "      <td>NaN</td>\n",
       "      <td>/api/v2/well_known_file_download/491384619</td>\n",
       "      <td>/api/v2/well_known_file_download/491384621</td>\n",
       "      <td>522</td>\n",
       "    </tr>\n",
       "    <tr>\n",
       "      <th>2</th>\n",
       "      <td>Htr3a-Cre_NO152</td>\n",
       "      <td>442627661</td>\n",
       "      <td>Htr3a-Cre_NO152;Ai14-178904.06.01.01</td>\n",
       "      <td>left</td>\n",
       "      <td>312782566</td>\n",
       "      <td>Anterior area, layer 6a</td>\n",
       "      <td>VISa6a</td>\n",
       "      <td>312782546</td>\n",
       "      <td>VISa</td>\n",
       "      <td>6a</td>\n",
       "      <td>...</td>\n",
       "      <td>cre reporter positive</td>\n",
       "      <td>0</td>\n",
       "      <td>0</td>\n",
       "      <td>0</td>\n",
       "      <td>NaN</td>\n",
       "      <td>aspiny</td>\n",
       "      <td>NaN</td>\n",
       "      <td>/api/v2/well_known_file_download/487610447</td>\n",
       "      <td>/api/v2/well_known_file_download/491377923</td>\n",
       "      <td>81</td>\n",
       "    </tr>\n",
       "    <tr>\n",
       "      <th>3</th>\n",
       "      <td>Cux2-CreERT2</td>\n",
       "      <td>487358945</td>\n",
       "      <td>Cux2-CreERT2;Ai14-214155.05.01.01</td>\n",
       "      <td>left</td>\n",
       "      <td>778</td>\n",
       "      <td>Primary visual area, layer 5</td>\n",
       "      <td>VISp5</td>\n",
       "      <td>385</td>\n",
       "      <td>VISp</td>\n",
       "      <td>5</td>\n",
       "      <td>...</td>\n",
       "      <td>cre reporter positive</td>\n",
       "      <td>5</td>\n",
       "      <td>0</td>\n",
       "      <td>0</td>\n",
       "      <td>intact</td>\n",
       "      <td>spiny</td>\n",
       "      <td>NaN</td>\n",
       "      <td>/api/v2/well_known_file_download/487361512</td>\n",
       "      <td>/api/v2/well_known_file_download/491767690</td>\n",
       "      <td>38</td>\n",
       "    </tr>\n",
       "    <tr>\n",
       "      <th>4</th>\n",
       "      <td>Scnn1a-Tg3-Cre</td>\n",
       "      <td>469803127</td>\n",
       "      <td>Scnn1a-Tg3-Cre;Ai14-180215.05.02.01</td>\n",
       "      <td>right</td>\n",
       "      <td>778</td>\n",
       "      <td>Primary visual area, layer 5</td>\n",
       "      <td>VISp5</td>\n",
       "      <td>385</td>\n",
       "      <td>VISp</td>\n",
       "      <td>5</td>\n",
       "      <td>...</td>\n",
       "      <td>cre reporter positive</td>\n",
       "      <td>5</td>\n",
       "      <td>0</td>\n",
       "      <td>0</td>\n",
       "      <td>intact</td>\n",
       "      <td>spiny</td>\n",
       "      <td>NaN</td>\n",
       "      <td>/api/v2/well_known_file_download/487635954</td>\n",
       "      <td>/api/v2/well_known_file_download/491376335</td>\n",
       "      <td>671</td>\n",
       "    </tr>\n",
       "  </tbody>\n",
       "</table>\n",
       "<p>5 rows × 44 columns</p>\n",
       "</div>"
      ],
      "text/plain": [
       "         line_name  specimen__id                         specimen__name  \\\n",
       "0   Scnn1a-Tg2-Cre     313862022    Scnn1a-Tg2-Cre;Ai14-167081.03.02.01   \n",
       "1   Rorb-IRES2-Cre     479508018  Rorb-IRES2-Cre-D;Ai14-196662.03.01.01   \n",
       "2  Htr3a-Cre_NO152     442627661   Htr3a-Cre_NO152;Ai14-178904.06.01.01   \n",
       "3     Cux2-CreERT2     487358945      Cux2-CreERT2;Ai14-214155.05.01.01   \n",
       "4   Scnn1a-Tg3-Cre     469803127    Scnn1a-Tg3-Cre;Ai14-180215.05.02.01   \n",
       "\n",
       "  specimen__hemisphere  structure__id               structure__name  \\\n",
       "0                right            721  Primary visual area, layer 4   \n",
       "1                 left            721  Primary visual area, layer 4   \n",
       "2                 left      312782566       Anterior area, layer 6a   \n",
       "3                 left            778  Primary visual area, layer 5   \n",
       "4                right            778  Primary visual area, layer 5   \n",
       "\n",
       "  structure__acronym  structure_parent__id structure_parent__acronym  \\\n",
       "0              VISp4                   385                      VISp   \n",
       "1              VISp4                   385                      VISp   \n",
       "2             VISa6a             312782546                      VISa   \n",
       "3              VISp5                   385                      VISp   \n",
       "4              VISp5                   385                      VISp   \n",
       "\n",
       "  structure__layer ...    cell_reporter_status  m__glif  \\\n",
       "0                4 ...   cre reporter positive        0   \n",
       "1                4 ...   cre reporter positive        2   \n",
       "2               6a ...   cre reporter positive        0   \n",
       "3                5 ...   cre reporter positive        5   \n",
       "4                5 ...   cre reporter positive        5   \n",
       "\n",
       "   m__biophys_perisomatic  m__biophys_all_active  tag__apical  \\\n",
       "0                       1                      0       intact   \n",
       "1                       0                      0       intact   \n",
       "2                       0                      0          NaN   \n",
       "3                       0                      0       intact   \n",
       "4                       0                      0       intact   \n",
       "\n",
       "   tag__dendrite_type                            morph_thumb_path  \\\n",
       "0               spiny  /api/v2/well_known_file_download/487659609   \n",
       "1               spiny                                         NaN   \n",
       "2              aspiny                                         NaN   \n",
       "3               spiny                                         NaN   \n",
       "4               spiny                                         NaN   \n",
       "\n",
       "                             ephys_thumb_path  \\\n",
       "0  /api/v2/well_known_file_download/487623088   \n",
       "1  /api/v2/well_known_file_download/491384619   \n",
       "2  /api/v2/well_known_file_download/487610447   \n",
       "3  /api/v2/well_known_file_download/487361512   \n",
       "4  /api/v2/well_known_file_download/487635954   \n",
       "\n",
       "                 ephys_inst_thresh_thumb_path   id  \n",
       "0  /api/v2/well_known_file_download/491376069  606  \n",
       "1  /api/v2/well_known_file_download/491384621  522  \n",
       "2  /api/v2/well_known_file_download/491377923   81  \n",
       "3  /api/v2/well_known_file_download/491767690   38  \n",
       "4  /api/v2/well_known_file_download/491376335  671  \n",
       "\n",
       "[5 rows x 44 columns]"
      ]
     },
     "execution_count": 2,
     "metadata": {},
     "output_type": "execute_result"
    }
   ],
   "source": [
    "cell_data = pd.read_csv('cell_data.csv')\n",
    "cell_data.head()"
   ]
  },
  {
   "cell_type": "code",
   "execution_count": 3,
   "metadata": {
    "collapsed": false
   },
   "outputs": [
    {
     "data": {
      "text/plain": [
       "692"
      ]
     },
     "execution_count": 3,
     "metadata": {},
     "output_type": "execute_result"
    }
   ],
   "source": [
    "len(cell_data)"
   ]
  },
  {
   "cell_type": "markdown",
   "metadata": {},
   "source": [
    "## e_phys data load"
   ]
  },
  {
   "cell_type": "code",
   "execution_count": 4,
   "metadata": {
    "collapsed": false
   },
   "outputs": [
    {
     "data": {
      "text/html": [
       "<div>\n",
       "<table border=\"1\" class=\"dataframe\">\n",
       "  <thead>\n",
       "    <tr style=\"text-align: right;\">\n",
       "      <th></th>\n",
       "      <th>Unnamed: 0</th>\n",
       "      <th>adaptation</th>\n",
       "      <th>avg_isi</th>\n",
       "      <th>electrode_0_pa</th>\n",
       "      <th>f_i_curve_slope</th>\n",
       "      <th>fast_trough_t_long_square</th>\n",
       "      <th>fast_trough_t_ramp</th>\n",
       "      <th>fast_trough_t_short_square</th>\n",
       "      <th>fast_trough_v_long_square</th>\n",
       "      <th>fast_trough_v_ramp</th>\n",
       "      <th>...</th>\n",
       "      <th>trough_t_ramp</th>\n",
       "      <th>trough_t_short_square</th>\n",
       "      <th>trough_v_long_square</th>\n",
       "      <th>trough_v_ramp</th>\n",
       "      <th>trough_v_short_square</th>\n",
       "      <th>upstroke_downstroke_ratio_long_square</th>\n",
       "      <th>upstroke_downstroke_ratio_ramp</th>\n",
       "      <th>upstroke_downstroke_ratio_short_square</th>\n",
       "      <th>vm_for_sag</th>\n",
       "      <th>vrest</th>\n",
       "    </tr>\n",
       "  </thead>\n",
       "  <tbody>\n",
       "    <tr>\n",
       "      <th>0</th>\n",
       "      <td>0</td>\n",
       "      <td>NaN</td>\n",
       "      <td>44.797500</td>\n",
       "      <td>11.978124</td>\n",
       "      <td>0.084259</td>\n",
       "      <td>0.101075</td>\n",
       "      <td>5.280735</td>\n",
       "      <td>0.008300</td>\n",
       "      <td>-59.531254</td>\n",
       "      <td>-57.697918</td>\n",
       "      <td>...</td>\n",
       "      <td>5.280735</td>\n",
       "      <td>0.510604</td>\n",
       "      <td>-59.531254</td>\n",
       "      <td>-57.697918</td>\n",
       "      <td>-78.536465</td>\n",
       "      <td>2.009734</td>\n",
       "      <td>1.980484</td>\n",
       "      <td>1.957409</td>\n",
       "      <td>-96.781250</td>\n",
       "      <td>-77.704921</td>\n",
       "    </tr>\n",
       "    <tr>\n",
       "      <th>1</th>\n",
       "      <td>1</td>\n",
       "      <td>0.032340</td>\n",
       "      <td>55.895000</td>\n",
       "      <td>-55.964379</td>\n",
       "      <td>0.280000</td>\n",
       "      <td>0.094755</td>\n",
       "      <td>1.833668</td>\n",
       "      <td>0.008380</td>\n",
       "      <td>-50.250000</td>\n",
       "      <td>-52.593754</td>\n",
       "      <td>...</td>\n",
       "      <td>1.865633</td>\n",
       "      <td>0.500193</td>\n",
       "      <td>-54.031254</td>\n",
       "      <td>-57.385419</td>\n",
       "      <td>-77.750005</td>\n",
       "      <td>3.042933</td>\n",
       "      <td>3.517684</td>\n",
       "      <td>3.274181</td>\n",
       "      <td>-101.000000</td>\n",
       "      <td>-76.928478</td>\n",
       "    </tr>\n",
       "    <tr>\n",
       "      <th>2</th>\n",
       "      <td>2</td>\n",
       "      <td>0.162880</td>\n",
       "      <td>59.473000</td>\n",
       "      <td>5.602500</td>\n",
       "      <td>0.091032</td>\n",
       "      <td>0.048620</td>\n",
       "      <td>5.704792</td>\n",
       "      <td>0.008326</td>\n",
       "      <td>-51.531250</td>\n",
       "      <td>-53.104169</td>\n",
       "      <td>...</td>\n",
       "      <td>5.715375</td>\n",
       "      <td>0.402444</td>\n",
       "      <td>-51.625004</td>\n",
       "      <td>-55.322919</td>\n",
       "      <td>-75.195314</td>\n",
       "      <td>3.758079</td>\n",
       "      <td>3.308425</td>\n",
       "      <td>3.694207</td>\n",
       "      <td>-89.968758</td>\n",
       "      <td>-74.231581</td>\n",
       "    </tr>\n",
       "    <tr>\n",
       "      <th>3</th>\n",
       "      <td>3</td>\n",
       "      <td>0.113440</td>\n",
       "      <td>86.349000</td>\n",
       "      <td>-9.024376</td>\n",
       "      <td>0.204990</td>\n",
       "      <td>0.143820</td>\n",
       "      <td>4.080805</td>\n",
       "      <td>0.004870</td>\n",
       "      <td>-43.968754</td>\n",
       "      <td>-46.072919</td>\n",
       "      <td>...</td>\n",
       "      <td>4.112943</td>\n",
       "      <td>0.620560</td>\n",
       "      <td>-51.375000</td>\n",
       "      <td>-51.489586</td>\n",
       "      <td>-77.929691</td>\n",
       "      <td>3.617618</td>\n",
       "      <td>3.732209</td>\n",
       "      <td>3.773257</td>\n",
       "      <td>-94.718758</td>\n",
       "      <td>-77.662368</td>\n",
       "    </tr>\n",
       "    <tr>\n",
       "      <th>4</th>\n",
       "      <td>4</td>\n",
       "      <td>0.030623</td>\n",
       "      <td>72.309615</td>\n",
       "      <td>-6.614375</td>\n",
       "      <td>0.251415</td>\n",
       "      <td>0.173805</td>\n",
       "      <td>3.753390</td>\n",
       "      <td>0.008297</td>\n",
       "      <td>-51.906254</td>\n",
       "      <td>-49.500000</td>\n",
       "      <td>...</td>\n",
       "      <td>3.785528</td>\n",
       "      <td>0.358858</td>\n",
       "      <td>-58.937500</td>\n",
       "      <td>-54.552086</td>\n",
       "      <td>-74.912503</td>\n",
       "      <td>4.290042</td>\n",
       "      <td>4.340203</td>\n",
       "      <td>4.628210</td>\n",
       "      <td>-90.031250</td>\n",
       "      <td>-74.220647</td>\n",
       "    </tr>\n",
       "  </tbody>\n",
       "</table>\n",
       "<p>5 rows × 57 columns</p>\n",
       "</div>"
      ],
      "text/plain": [
       "   Unnamed: 0  adaptation    avg_isi  electrode_0_pa  f_i_curve_slope  \\\n",
       "0           0         NaN  44.797500       11.978124         0.084259   \n",
       "1           1    0.032340  55.895000      -55.964379         0.280000   \n",
       "2           2    0.162880  59.473000        5.602500         0.091032   \n",
       "3           3    0.113440  86.349000       -9.024376         0.204990   \n",
       "4           4    0.030623  72.309615       -6.614375         0.251415   \n",
       "\n",
       "   fast_trough_t_long_square  fast_trough_t_ramp  fast_trough_t_short_square  \\\n",
       "0                   0.101075            5.280735                    0.008300   \n",
       "1                   0.094755            1.833668                    0.008380   \n",
       "2                   0.048620            5.704792                    0.008326   \n",
       "3                   0.143820            4.080805                    0.004870   \n",
       "4                   0.173805            3.753390                    0.008297   \n",
       "\n",
       "   fast_trough_v_long_square  fast_trough_v_ramp    ...      trough_t_ramp  \\\n",
       "0                 -59.531254          -57.697918    ...           5.280735   \n",
       "1                 -50.250000          -52.593754    ...           1.865633   \n",
       "2                 -51.531250          -53.104169    ...           5.715375   \n",
       "3                 -43.968754          -46.072919    ...           4.112943   \n",
       "4                 -51.906254          -49.500000    ...           3.785528   \n",
       "\n",
       "  trough_t_short_square trough_v_long_square trough_v_ramp  \\\n",
       "0              0.510604           -59.531254    -57.697918   \n",
       "1              0.500193           -54.031254    -57.385419   \n",
       "2              0.402444           -51.625004    -55.322919   \n",
       "3              0.620560           -51.375000    -51.489586   \n",
       "4              0.358858           -58.937500    -54.552086   \n",
       "\n",
       "   trough_v_short_square  upstroke_downstroke_ratio_long_square  \\\n",
       "0             -78.536465                               2.009734   \n",
       "1             -77.750005                               3.042933   \n",
       "2             -75.195314                               3.758079   \n",
       "3             -77.929691                               3.617618   \n",
       "4             -74.912503                               4.290042   \n",
       "\n",
       "   upstroke_downstroke_ratio_ramp  upstroke_downstroke_ratio_short_square  \\\n",
       "0                        1.980484                                1.957409   \n",
       "1                        3.517684                                3.274181   \n",
       "2                        3.308425                                3.694207   \n",
       "3                        3.732209                                3.773257   \n",
       "4                        4.340203                                4.628210   \n",
       "\n",
       "   vm_for_sag      vrest  \n",
       "0  -96.781250 -77.704921  \n",
       "1 -101.000000 -76.928478  \n",
       "2  -89.968758 -74.231581  \n",
       "3  -94.718758 -77.662368  \n",
       "4  -90.031250 -74.220647  \n",
       "\n",
       "[5 rows x 57 columns]"
      ]
     },
     "execution_count": 4,
     "metadata": {},
     "output_type": "execute_result"
    }
   ],
   "source": [
    "ephy_data = pd.read_csv('ephys_features.csv')\n",
    "ephy_data.head()"
   ]
  },
  {
   "cell_type": "code",
   "execution_count": 5,
   "metadata": {
    "collapsed": false
   },
   "outputs": [
    {
     "data": {
      "text/plain": [
       "813"
      ]
     },
     "execution_count": 5,
     "metadata": {},
     "output_type": "execute_result"
    }
   ],
   "source": [
    "len(ephy_data)"
   ]
  },
  {
   "cell_type": "markdown",
   "metadata": {},
   "source": [
    "### merge specimen id"
   ]
  },
  {
   "cell_type": "code",
   "execution_count": 6,
   "metadata": {
    "collapsed": false
   },
   "outputs": [
    {
     "data": {
      "text/plain": [
       "692"
      ]
     },
     "execution_count": 6,
     "metadata": {},
     "output_type": "execute_result"
    }
   ],
   "source": [
    "mdata = pd.merge(cell_data, ephy_data, how='inner', left_on=['specimen__id'], right_on=['specimen_id'])\n",
    "len(mdata)"
   ]
  },
  {
   "cell_type": "code",
   "execution_count": 7,
   "metadata": {
    "collapsed": false
   },
   "outputs": [
    {
     "data": {
      "text/html": [
       "<div>\n",
       "<table border=\"1\" class=\"dataframe\">\n",
       "  <thead>\n",
       "    <tr style=\"text-align: right;\">\n",
       "      <th></th>\n",
       "      <th>line_name</th>\n",
       "      <th>specimen__id</th>\n",
       "      <th>specimen__name</th>\n",
       "      <th>specimen__hemisphere</th>\n",
       "      <th>structure__id</th>\n",
       "      <th>structure__name</th>\n",
       "      <th>structure__acronym</th>\n",
       "      <th>structure_parent__id</th>\n",
       "      <th>structure_parent__acronym</th>\n",
       "      <th>structure__layer</th>\n",
       "      <th>...</th>\n",
       "      <th>trough_t_ramp</th>\n",
       "      <th>trough_t_short_square</th>\n",
       "      <th>trough_v_long_square</th>\n",
       "      <th>trough_v_ramp</th>\n",
       "      <th>trough_v_short_square</th>\n",
       "      <th>upstroke_downstroke_ratio_long_square</th>\n",
       "      <th>upstroke_downstroke_ratio_ramp</th>\n",
       "      <th>upstroke_downstroke_ratio_short_square</th>\n",
       "      <th>vm_for_sag</th>\n",
       "      <th>vrest</th>\n",
       "    </tr>\n",
       "  </thead>\n",
       "  <tbody>\n",
       "    <tr>\n",
       "      <th>0</th>\n",
       "      <td>Scnn1a-Tg2-Cre</td>\n",
       "      <td>313862022</td>\n",
       "      <td>Scnn1a-Tg2-Cre;Ai14-167081.03.02.01</td>\n",
       "      <td>right</td>\n",
       "      <td>721</td>\n",
       "      <td>Primary visual area, layer 4</td>\n",
       "      <td>VISp4</td>\n",
       "      <td>385</td>\n",
       "      <td>VISp</td>\n",
       "      <td>4</td>\n",
       "      <td>...</td>\n",
       "      <td>2.570595</td>\n",
       "      <td>0.065430</td>\n",
       "      <td>-50.875000</td>\n",
       "      <td>-51.156254</td>\n",
       "      <td>-64.531250</td>\n",
       "      <td>5.261166</td>\n",
       "      <td>5.386440</td>\n",
       "      <td>5.949575</td>\n",
       "      <td>-70.906250</td>\n",
       "      <td>-63.574978</td>\n",
       "    </tr>\n",
       "    <tr>\n",
       "      <th>1</th>\n",
       "      <td>Rorb-IRES2-Cre</td>\n",
       "      <td>479508018</td>\n",
       "      <td>Rorb-IRES2-Cre-D;Ai14-196662.03.01.01</td>\n",
       "      <td>left</td>\n",
       "      <td>721</td>\n",
       "      <td>Primary visual area, layer 4</td>\n",
       "      <td>VISp4</td>\n",
       "      <td>385</td>\n",
       "      <td>VISp</td>\n",
       "      <td>4</td>\n",
       "      <td>...</td>\n",
       "      <td>2.515478</td>\n",
       "      <td>0.300489</td>\n",
       "      <td>-53.625004</td>\n",
       "      <td>-57.239587</td>\n",
       "      <td>-72.273445</td>\n",
       "      <td>4.957590</td>\n",
       "      <td>4.685049</td>\n",
       "      <td>4.538613</td>\n",
       "      <td>-92.781250</td>\n",
       "      <td>-72.237417</td>\n",
       "    </tr>\n",
       "    <tr>\n",
       "      <th>2</th>\n",
       "      <td>Htr3a-Cre_NO152</td>\n",
       "      <td>442627661</td>\n",
       "      <td>Htr3a-Cre_NO152;Ai14-178904.06.01.01</td>\n",
       "      <td>left</td>\n",
       "      <td>312782566</td>\n",
       "      <td>Anterior area, layer 6a</td>\n",
       "      <td>VISa6a</td>\n",
       "      <td>312782546</td>\n",
       "      <td>VISa</td>\n",
       "      <td>6a</td>\n",
       "      <td>...</td>\n",
       "      <td>12.013955</td>\n",
       "      <td>0.596460</td>\n",
       "      <td>-48.468750</td>\n",
       "      <td>-57.958335</td>\n",
       "      <td>-78.447918</td>\n",
       "      <td>4.843871</td>\n",
       "      <td>3.656743</td>\n",
       "      <td>2.261516</td>\n",
       "      <td>-83.687500</td>\n",
       "      <td>-78.260158</td>\n",
       "    </tr>\n",
       "    <tr>\n",
       "      <th>3</th>\n",
       "      <td>Cux2-CreERT2</td>\n",
       "      <td>487358945</td>\n",
       "      <td>Cux2-CreERT2;Ai14-214155.05.01.01</td>\n",
       "      <td>left</td>\n",
       "      <td>778</td>\n",
       "      <td>Primary visual area, layer 5</td>\n",
       "      <td>VISp5</td>\n",
       "      <td>385</td>\n",
       "      <td>VISp</td>\n",
       "      <td>5</td>\n",
       "      <td>...</td>\n",
       "      <td>2.996695</td>\n",
       "      <td>0.747021</td>\n",
       "      <td>-54.250000</td>\n",
       "      <td>-57.041669</td>\n",
       "      <td>-79.081253</td>\n",
       "      <td>4.815331</td>\n",
       "      <td>4.534321</td>\n",
       "      <td>4.969444</td>\n",
       "      <td>-92.218758</td>\n",
       "      <td>-77.838111</td>\n",
       "    </tr>\n",
       "    <tr>\n",
       "      <th>4</th>\n",
       "      <td>Scnn1a-Tg3-Cre</td>\n",
       "      <td>469803127</td>\n",
       "      <td>Scnn1a-Tg3-Cre;Ai14-180215.05.02.01</td>\n",
       "      <td>right</td>\n",
       "      <td>778</td>\n",
       "      <td>Primary visual area, layer 5</td>\n",
       "      <td>VISp5</td>\n",
       "      <td>385</td>\n",
       "      <td>VISp</td>\n",
       "      <td>5</td>\n",
       "      <td>...</td>\n",
       "      <td>2.187125</td>\n",
       "      <td>0.775278</td>\n",
       "      <td>-50.812500</td>\n",
       "      <td>-50.296879</td>\n",
       "      <td>-78.800003</td>\n",
       "      <td>4.756384</td>\n",
       "      <td>3.489439</td>\n",
       "      <td>4.384974</td>\n",
       "      <td>-97.968758</td>\n",
       "      <td>-76.375813</td>\n",
       "    </tr>\n",
       "  </tbody>\n",
       "</table>\n",
       "<p>5 rows × 101 columns</p>\n",
       "</div>"
      ],
      "text/plain": [
       "         line_name  specimen__id                         specimen__name  \\\n",
       "0   Scnn1a-Tg2-Cre     313862022    Scnn1a-Tg2-Cre;Ai14-167081.03.02.01   \n",
       "1   Rorb-IRES2-Cre     479508018  Rorb-IRES2-Cre-D;Ai14-196662.03.01.01   \n",
       "2  Htr3a-Cre_NO152     442627661   Htr3a-Cre_NO152;Ai14-178904.06.01.01   \n",
       "3     Cux2-CreERT2     487358945      Cux2-CreERT2;Ai14-214155.05.01.01   \n",
       "4   Scnn1a-Tg3-Cre     469803127    Scnn1a-Tg3-Cre;Ai14-180215.05.02.01   \n",
       "\n",
       "  specimen__hemisphere  structure__id               structure__name  \\\n",
       "0                right            721  Primary visual area, layer 4   \n",
       "1                 left            721  Primary visual area, layer 4   \n",
       "2                 left      312782566       Anterior area, layer 6a   \n",
       "3                 left            778  Primary visual area, layer 5   \n",
       "4                right            778  Primary visual area, layer 5   \n",
       "\n",
       "  structure__acronym  structure_parent__id structure_parent__acronym  \\\n",
       "0              VISp4                   385                      VISp   \n",
       "1              VISp4                   385                      VISp   \n",
       "2             VISa6a             312782546                      VISa   \n",
       "3              VISp5                   385                      VISp   \n",
       "4              VISp5                   385                      VISp   \n",
       "\n",
       "  structure__layer    ...      trough_t_ramp  trough_t_short_square  \\\n",
       "0                4    ...           2.570595               0.065430   \n",
       "1                4    ...           2.515478               0.300489   \n",
       "2               6a    ...          12.013955               0.596460   \n",
       "3                5    ...           2.996695               0.747021   \n",
       "4                5    ...           2.187125               0.775278   \n",
       "\n",
       "   trough_v_long_square  trough_v_ramp  trough_v_short_square  \\\n",
       "0            -50.875000     -51.156254             -64.531250   \n",
       "1            -53.625004     -57.239587             -72.273445   \n",
       "2            -48.468750     -57.958335             -78.447918   \n",
       "3            -54.250000     -57.041669             -79.081253   \n",
       "4            -50.812500     -50.296879             -78.800003   \n",
       "\n",
       "   upstroke_downstroke_ratio_long_square  upstroke_downstroke_ratio_ramp  \\\n",
       "0                               5.261166                        5.386440   \n",
       "1                               4.957590                        4.685049   \n",
       "2                               4.843871                        3.656743   \n",
       "3                               4.815331                        4.534321   \n",
       "4                               4.756384                        3.489439   \n",
       "\n",
       "   upstroke_downstroke_ratio_short_square  vm_for_sag      vrest  \n",
       "0                                5.949575  -70.906250 -63.574978  \n",
       "1                                4.538613  -92.781250 -72.237417  \n",
       "2                                2.261516  -83.687500 -78.260158  \n",
       "3                                4.969444  -92.218758 -77.838111  \n",
       "4                                4.384974  -97.968758 -76.375813  \n",
       "\n",
       "[5 rows x 101 columns]"
      ]
     },
     "execution_count": 7,
     "metadata": {},
     "output_type": "execute_result"
    }
   ],
   "source": [
    "mdata.head()"
   ]
  },
  {
   "cell_type": "code",
   "execution_count": 8,
   "metadata": {
    "collapsed": false
   },
   "outputs": [
    {
     "data": {
      "text/html": [
       "<div>\n",
       "<table border=\"1\" class=\"dataframe\">\n",
       "  <thead>\n",
       "    <tr style=\"text-align: right;\">\n",
       "      <th></th>\n",
       "      <th>specimen__id</th>\n",
       "      <th>structure__id</th>\n",
       "      <th>structure_parent__id</th>\n",
       "      <th>nr__max_euclidean_distance</th>\n",
       "      <th>nr__number_stems</th>\n",
       "      <th>nr__number_bifurcations</th>\n",
       "      <th>nr__average_contraction</th>\n",
       "      <th>nr__average_parent_daughter_ratio</th>\n",
       "      <th>nrwkf__id</th>\n",
       "      <th>erwkf__id</th>\n",
       "      <th>...</th>\n",
       "      <th>trough_t_ramp</th>\n",
       "      <th>trough_t_short_square</th>\n",
       "      <th>trough_v_long_square</th>\n",
       "      <th>trough_v_ramp</th>\n",
       "      <th>trough_v_short_square</th>\n",
       "      <th>upstroke_downstroke_ratio_long_square</th>\n",
       "      <th>upstroke_downstroke_ratio_ramp</th>\n",
       "      <th>upstroke_downstroke_ratio_short_square</th>\n",
       "      <th>vm_for_sag</th>\n",
       "      <th>vrest</th>\n",
       "    </tr>\n",
       "  </thead>\n",
       "  <tbody>\n",
       "    <tr>\n",
       "      <th>count</th>\n",
       "      <td>6.920000e+02</td>\n",
       "      <td>6.920000e+02</td>\n",
       "      <td>6.920000e+02</td>\n",
       "      <td>2.590000e+02</td>\n",
       "      <td>259.000000</td>\n",
       "      <td>259.000000</td>\n",
       "      <td>259.000000</td>\n",
       "      <td>259.000000</td>\n",
       "      <td>2.430000e+02</td>\n",
       "      <td>6.920000e+02</td>\n",
       "      <td>...</td>\n",
       "      <td>655.000000</td>\n",
       "      <td>692.000000</td>\n",
       "      <td>692.000000</td>\n",
       "      <td>655.000000</td>\n",
       "      <td>692.000000</td>\n",
       "      <td>692.000000</td>\n",
       "      <td>655.000000</td>\n",
       "      <td>692.000000</td>\n",
       "      <td>692.000000</td>\n",
       "      <td>692.000000</td>\n",
       "    </tr>\n",
       "    <tr>\n",
       "      <th>mean</th>\n",
       "      <td>4.558896e+08</td>\n",
       "      <td>1.310858e+07</td>\n",
       "      <td>4.520371e+06</td>\n",
       "      <td>1.035079e+04</td>\n",
       "      <td>6.648649</td>\n",
       "      <td>25.698842</td>\n",
       "      <td>0.896209</td>\n",
       "      <td>0.768706</td>\n",
       "      <td>4.950256e+08</td>\n",
       "      <td>4.954025e+08</td>\n",
       "      <td>...</td>\n",
       "      <td>6.212352</td>\n",
       "      <td>0.492196</td>\n",
       "      <td>-56.667361</td>\n",
       "      <td>-55.603191</td>\n",
       "      <td>-73.877066</td>\n",
       "      <td>2.471768</td>\n",
       "      <td>2.462993</td>\n",
       "      <td>2.534390</td>\n",
       "      <td>-91.704754</td>\n",
       "      <td>-73.101097</td>\n",
       "    </tr>\n",
       "    <tr>\n",
       "      <th>std</th>\n",
       "      <td>5.887130e+07</td>\n",
       "      <td>6.271990e+07</td>\n",
       "      <td>3.735443e+07</td>\n",
       "      <td>1.595810e+05</td>\n",
       "      <td>2.157578</td>\n",
       "      <td>11.732898</td>\n",
       "      <td>0.027687</td>\n",
       "      <td>0.068536</td>\n",
       "      <td>9.113933e+06</td>\n",
       "      <td>6.378012e+06</td>\n",
       "      <td>...</td>\n",
       "      <td>4.736947</td>\n",
       "      <td>0.350256</td>\n",
       "      <td>5.211311</td>\n",
       "      <td>3.893259</td>\n",
       "      <td>4.900303</td>\n",
       "      <td>1.044234</td>\n",
       "      <td>1.100193</td>\n",
       "      <td>1.049297</td>\n",
       "      <td>6.677145</td>\n",
       "      <td>5.106030</td>\n",
       "    </tr>\n",
       "    <tr>\n",
       "      <th>min</th>\n",
       "      <td>3.138614e+08</td>\n",
       "      <td>3.300000e+01</td>\n",
       "      <td>3.850000e+02</td>\n",
       "      <td>3.458333e+01</td>\n",
       "      <td>2.000000</td>\n",
       "      <td>3.000000</td>\n",
       "      <td>0.697496</td>\n",
       "      <td>0.446585</td>\n",
       "      <td>3.979054e+08</td>\n",
       "      <td>4.870963e+08</td>\n",
       "      <td>...</td>\n",
       "      <td>0.285193</td>\n",
       "      <td>0.003245</td>\n",
       "      <td>-75.656250</td>\n",
       "      <td>-73.312508</td>\n",
       "      <td>-86.492189</td>\n",
       "      <td>0.862726</td>\n",
       "      <td>0.724582</td>\n",
       "      <td>0.997145</td>\n",
       "      <td>-105.687508</td>\n",
       "      <td>-85.449162</td>\n",
       "    </tr>\n",
       "    <tr>\n",
       "      <th>25%</th>\n",
       "      <td>4.716713e+08</td>\n",
       "      <td>7.210000e+02</td>\n",
       "      <td>3.850000e+02</td>\n",
       "      <td>2.533591e+02</td>\n",
       "      <td>5.000000</td>\n",
       "      <td>17.500000</td>\n",
       "      <td>0.883028</td>\n",
       "      <td>0.730560</td>\n",
       "      <td>4.912539e+08</td>\n",
       "      <td>4.912012e+08</td>\n",
       "      <td>...</td>\n",
       "      <td>2.783312</td>\n",
       "      <td>0.274357</td>\n",
       "      <td>-59.820313</td>\n",
       "      <td>-58.020835</td>\n",
       "      <td>-77.428129</td>\n",
       "      <td>1.427780</td>\n",
       "      <td>1.343245</td>\n",
       "      <td>1.513657</td>\n",
       "      <td>-97.156252</td>\n",
       "      <td>-76.767271</td>\n",
       "    </tr>\n",
       "    <tr>\n",
       "      <th>50%</th>\n",
       "      <td>4.806734e+08</td>\n",
       "      <td>7.780000e+02</td>\n",
       "      <td>3.850000e+02</td>\n",
       "      <td>3.936188e+02</td>\n",
       "      <td>7.000000</td>\n",
       "      <td>24.000000</td>\n",
       "      <td>0.899550</td>\n",
       "      <td>0.774266</td>\n",
       "      <td>4.917714e+08</td>\n",
       "      <td>4.961962e+08</td>\n",
       "      <td>...</td>\n",
       "      <td>4.557088</td>\n",
       "      <td>0.449953</td>\n",
       "      <td>-56.156250</td>\n",
       "      <td>-55.562504</td>\n",
       "      <td>-74.209377</td>\n",
       "      <td>2.462087</td>\n",
       "      <td>2.510283</td>\n",
       "      <td>2.435583</td>\n",
       "      <td>-92.500000</td>\n",
       "      <td>-73.398325</td>\n",
       "    </tr>\n",
       "    <tr>\n",
       "      <th>75%</th>\n",
       "      <td>4.873108e+08</td>\n",
       "      <td>7.780000e+02</td>\n",
       "      <td>3.850000e+02</td>\n",
       "      <td>5.247158e+02</td>\n",
       "      <td>8.000000</td>\n",
       "      <td>31.000000</td>\n",
       "      <td>0.912933</td>\n",
       "      <td>0.813772</td>\n",
       "      <td>4.960853e+08</td>\n",
       "      <td>4.966043e+08</td>\n",
       "      <td>...</td>\n",
       "      <td>8.141997</td>\n",
       "      <td>0.615760</td>\n",
       "      <td>-53.304690</td>\n",
       "      <td>-53.067710</td>\n",
       "      <td>-70.778128</td>\n",
       "      <td>3.352583</td>\n",
       "      <td>3.391099</td>\n",
       "      <td>3.415083</td>\n",
       "      <td>-87.062500</td>\n",
       "      <td>-70.231113</td>\n",
       "    </tr>\n",
       "    <tr>\n",
       "      <th>max</th>\n",
       "      <td>5.096209e+08</td>\n",
       "      <td>3.127826e+08</td>\n",
       "      <td>3.127826e+08</td>\n",
       "      <td>2.568642e+06</td>\n",
       "      <td>14.000000</td>\n",
       "      <td>78.000000</td>\n",
       "      <td>0.958597</td>\n",
       "      <td>1.021573</td>\n",
       "      <td>5.143516e+08</td>\n",
       "      <td>5.156427e+08</td>\n",
       "      <td>...</td>\n",
       "      <td>32.018185</td>\n",
       "      <td>1.875384</td>\n",
       "      <td>-41.593750</td>\n",
       "      <td>-37.791668</td>\n",
       "      <td>-59.125004</td>\n",
       "      <td>5.261166</td>\n",
       "      <td>5.386440</td>\n",
       "      <td>5.949575</td>\n",
       "      <td>-68.906258</td>\n",
       "      <td>-50.776325</td>\n",
       "    </tr>\n",
       "  </tbody>\n",
       "</table>\n",
       "<p>8 rows × 84 columns</p>\n",
       "</div>"
      ],
      "text/plain": [
       "       specimen__id  structure__id  structure_parent__id  \\\n",
       "count  6.920000e+02   6.920000e+02          6.920000e+02   \n",
       "mean   4.558896e+08   1.310858e+07          4.520371e+06   \n",
       "std    5.887130e+07   6.271990e+07          3.735443e+07   \n",
       "min    3.138614e+08   3.300000e+01          3.850000e+02   \n",
       "25%    4.716713e+08   7.210000e+02          3.850000e+02   \n",
       "50%    4.806734e+08   7.780000e+02          3.850000e+02   \n",
       "75%    4.873108e+08   7.780000e+02          3.850000e+02   \n",
       "max    5.096209e+08   3.127826e+08          3.127826e+08   \n",
       "\n",
       "       nr__max_euclidean_distance  nr__number_stems  nr__number_bifurcations  \\\n",
       "count                2.590000e+02        259.000000               259.000000   \n",
       "mean                 1.035079e+04          6.648649                25.698842   \n",
       "std                  1.595810e+05          2.157578                11.732898   \n",
       "min                  3.458333e+01          2.000000                 3.000000   \n",
       "25%                  2.533591e+02          5.000000                17.500000   \n",
       "50%                  3.936188e+02          7.000000                24.000000   \n",
       "75%                  5.247158e+02          8.000000                31.000000   \n",
       "max                  2.568642e+06         14.000000                78.000000   \n",
       "\n",
       "       nr__average_contraction  nr__average_parent_daughter_ratio  \\\n",
       "count               259.000000                         259.000000   \n",
       "mean                  0.896209                           0.768706   \n",
       "std                   0.027687                           0.068536   \n",
       "min                   0.697496                           0.446585   \n",
       "25%                   0.883028                           0.730560   \n",
       "50%                   0.899550                           0.774266   \n",
       "75%                   0.912933                           0.813772   \n",
       "max                   0.958597                           1.021573   \n",
       "\n",
       "          nrwkf__id     erwkf__id     ...      trough_t_ramp  \\\n",
       "count  2.430000e+02  6.920000e+02     ...         655.000000   \n",
       "mean   4.950256e+08  4.954025e+08     ...           6.212352   \n",
       "std    9.113933e+06  6.378012e+06     ...           4.736947   \n",
       "min    3.979054e+08  4.870963e+08     ...           0.285193   \n",
       "25%    4.912539e+08  4.912012e+08     ...           2.783312   \n",
       "50%    4.917714e+08  4.961962e+08     ...           4.557088   \n",
       "75%    4.960853e+08  4.966043e+08     ...           8.141997   \n",
       "max    5.143516e+08  5.156427e+08     ...          32.018185   \n",
       "\n",
       "       trough_t_short_square  trough_v_long_square  trough_v_ramp  \\\n",
       "count             692.000000            692.000000     655.000000   \n",
       "mean                0.492196            -56.667361     -55.603191   \n",
       "std                 0.350256              5.211311       3.893259   \n",
       "min                 0.003245            -75.656250     -73.312508   \n",
       "25%                 0.274357            -59.820313     -58.020835   \n",
       "50%                 0.449953            -56.156250     -55.562504   \n",
       "75%                 0.615760            -53.304690     -53.067710   \n",
       "max                 1.875384            -41.593750     -37.791668   \n",
       "\n",
       "       trough_v_short_square  upstroke_downstroke_ratio_long_square  \\\n",
       "count             692.000000                             692.000000   \n",
       "mean              -73.877066                               2.471768   \n",
       "std                 4.900303                               1.044234   \n",
       "min               -86.492189                               0.862726   \n",
       "25%               -77.428129                               1.427780   \n",
       "50%               -74.209377                               2.462087   \n",
       "75%               -70.778128                               3.352583   \n",
       "max               -59.125004                               5.261166   \n",
       "\n",
       "       upstroke_downstroke_ratio_ramp  upstroke_downstroke_ratio_short_square  \\\n",
       "count                      655.000000                              692.000000   \n",
       "mean                         2.462993                                2.534390   \n",
       "std                          1.100193                                1.049297   \n",
       "min                          0.724582                                0.997145   \n",
       "25%                          1.343245                                1.513657   \n",
       "50%                          2.510283                                2.435583   \n",
       "75%                          3.391099                                3.415083   \n",
       "max                          5.386440                                5.949575   \n",
       "\n",
       "       vm_for_sag       vrest  \n",
       "count  692.000000  692.000000  \n",
       "mean   -91.704754  -73.101097  \n",
       "std      6.677145    5.106030  \n",
       "min   -105.687508  -85.449162  \n",
       "25%    -97.156252  -76.767271  \n",
       "50%    -92.500000  -73.398325  \n",
       "75%    -87.062500  -70.231113  \n",
       "max    -68.906258  -50.776325  \n",
       "\n",
       "[8 rows x 84 columns]"
      ]
     },
     "execution_count": 8,
     "metadata": {},
     "output_type": "execute_result"
    }
   ],
   "source": [
    "mdata.describe()"
   ]
  },
  {
   "cell_type": "markdown",
   "metadata": {},
   "source": [
    "### Whole data fearture 101 after merge, observation 692"
   ]
  },
  {
   "cell_type": "code",
   "execution_count": 10,
   "metadata": {
    "collapsed": false
   },
   "outputs": [
    {
     "data": {
      "text/plain": [
       "615"
      ]
     },
     "execution_count": 10,
     "metadata": {},
     "output_type": "execute_result"
    }
   ],
   "source": [
    "data_cre = mdata[mdata['cell_reporter_status'] == 'cre reporter positive']\n",
    "len(data_cre)"
   ]
  },
  {
   "cell_type": "markdown",
   "metadata": {},
   "source": [
    "### cre positive cell 615"
   ]
  },
  {
   "cell_type": "markdown",
   "metadata": {},
   "source": [
    "### cre reporter posivitive cells tagging."
   ]
  },
  {
   "cell_type": "code",
   "execution_count": 11,
   "metadata": {
    "collapsed": false
   },
   "outputs": [],
   "source": [
    "def dis_EI(cre_line): # labelling for excitory vs inbihitory cre line\n",
    "    output = []\n",
    "    for item in cre_line:\n",
    "        if (item == 'Pvalb-IRES-Cre' or item == 'Sst-IRES-Cre' or\n",
    "            item == 'Htr3a-Cre_NO152' or item == 'Vip-IRES-Cre' or\n",
    "            item == 'Gad2-IRES-Cre'):\n",
    "                output = output + ['I']\n",
    "        else:\n",
    "            output = output + ['E']\n",
    "    return output\n",
    "ExIn = []\n",
    "ExIn = dis_EI(data_cre['line_name']) # this is python list!!\n",
    "ExIn_pd = pd.DataFrame({'ExIn': ExIn}) # making pandas frame\n",
    "data_cre = data_cre.join(ExIn_pd)\n"
   ]
  },
  {
   "cell_type": "markdown",
   "metadata": {},
   "source": [
    "## subsetting data - only electrophysiological component for comparision"
   ]
  },
  {
   "cell_type": "code",
   "execution_count": 53,
   "metadata": {
    "collapsed": false
   },
   "outputs": [
    {
     "data": {
      "text/html": [
       "<div>\n",
       "<table border=\"1\" class=\"dataframe\">\n",
       "  <thead>\n",
       "    <tr style=\"text-align: right;\">\n",
       "      <th></th>\n",
       "      <th>nr__number_stems</th>\n",
       "      <th>nr__number_bifurcations</th>\n",
       "      <th>nr__average_contraction</th>\n",
       "      <th>nr__average_parent_daughter_ratio</th>\n",
       "      <th>ef__upstroke_downstroke_ratio_long_square</th>\n",
       "      <th>ef__adaptation</th>\n",
       "      <th>ef__threshold_i_long_square</th>\n",
       "      <th>ef__tau</th>\n",
       "      <th>ef__avg_isi</th>\n",
       "      <th>ef__avg_firing_rate</th>\n",
       "      <th>ef__ri</th>\n",
       "      <th>ef__peak_t_ramp</th>\n",
       "      <th>ef__vrest</th>\n",
       "      <th>fast_trough_v_short_square</th>\n",
       "      <th>peak_v_short_square</th>\n",
       "      <th>height</th>\n",
       "    </tr>\n",
       "  </thead>\n",
       "  <tbody>\n",
       "    <tr>\n",
       "      <th>count</th>\n",
       "      <td>227.000000</td>\n",
       "      <td>227.000000</td>\n",
       "      <td>227.000000</td>\n",
       "      <td>227.000000</td>\n",
       "      <td>615.000000</td>\n",
       "      <td>502.000000</td>\n",
       "      <td>615.000000</td>\n",
       "      <td>615.000000</td>\n",
       "      <td>573.000000</td>\n",
       "      <td>573.000000</td>\n",
       "      <td>615.000000</td>\n",
       "      <td>579.000000</td>\n",
       "      <td>615.000000</td>\n",
       "      <td>615.000000</td>\n",
       "      <td>615.000000</td>\n",
       "      <td>615.000000</td>\n",
       "    </tr>\n",
       "    <tr>\n",
       "      <th>mean</th>\n",
       "      <td>6.585903</td>\n",
       "      <td>25.101322</td>\n",
       "      <td>0.895506</td>\n",
       "      <td>0.768712</td>\n",
       "      <td>2.470953</td>\n",
       "      <td>0.046840</td>\n",
       "      <td>164.658536</td>\n",
       "      <td>16.776006</td>\n",
       "      <td>60.449486</td>\n",
       "      <td>36.389130</td>\n",
       "      <td>170.094651</td>\n",
       "      <td>6.110615</td>\n",
       "      <td>-73.136684</td>\n",
       "      <td>-59.724947</td>\n",
       "      <td>30.187609</td>\n",
       "      <td>89.912556</td>\n",
       "    </tr>\n",
       "    <tr>\n",
       "      <th>std</th>\n",
       "      <td>2.135949</td>\n",
       "      <td>11.376631</td>\n",
       "      <td>0.028674</td>\n",
       "      <td>0.071372</td>\n",
       "      <td>1.037507</td>\n",
       "      <td>0.072595</td>\n",
       "      <td>122.713473</td>\n",
       "      <td>9.966241</td>\n",
       "      <td>50.028697</td>\n",
       "      <td>39.240043</td>\n",
       "      <td>82.205505</td>\n",
       "      <td>4.628768</td>\n",
       "      <td>5.111332</td>\n",
       "      <td>6.344713</td>\n",
       "      <td>11.004145</td>\n",
       "      <td>8.861045</td>\n",
       "    </tr>\n",
       "    <tr>\n",
       "      <th>min</th>\n",
       "      <td>2.000000</td>\n",
       "      <td>3.000000</td>\n",
       "      <td>0.697496</td>\n",
       "      <td>0.446585</td>\n",
       "      <td>0.862726</td>\n",
       "      <td>-0.204913</td>\n",
       "      <td>10.000000</td>\n",
       "      <td>3.467032</td>\n",
       "      <td>3.828333</td>\n",
       "      <td>1.976792</td>\n",
       "      <td>36.562462</td>\n",
       "      <td>0.284310</td>\n",
       "      <td>-85.449162</td>\n",
       "      <td>-78.525008</td>\n",
       "      <td>-1.515625</td>\n",
       "      <td>52.458336</td>\n",
       "    </tr>\n",
       "    <tr>\n",
       "      <th>25%</th>\n",
       "      <td>5.000000</td>\n",
       "      <td>17.000000</td>\n",
       "      <td>0.881238</td>\n",
       "      <td>0.724031</td>\n",
       "      <td>1.447692</td>\n",
       "      <td>0.006814</td>\n",
       "      <td>70.000000</td>\n",
       "      <td>8.356607</td>\n",
       "      <td>21.231000</td>\n",
       "      <td>12.259546</td>\n",
       "      <td>111.796895</td>\n",
       "      <td>2.720636</td>\n",
       "      <td>-76.837734</td>\n",
       "      <td>-65.075002</td>\n",
       "      <td>22.370835</td>\n",
       "      <td>84.793754</td>\n",
       "    </tr>\n",
       "    <tr>\n",
       "      <th>50%</th>\n",
       "      <td>7.000000</td>\n",
       "      <td>24.000000</td>\n",
       "      <td>0.898836</td>\n",
       "      <td>0.774669</td>\n",
       "      <td>2.459218</td>\n",
       "      <td>0.023820</td>\n",
       "      <td>130.000000</td>\n",
       "      <td>15.918908</td>\n",
       "      <td>53.760882</td>\n",
       "      <td>18.600885</td>\n",
       "      <td>154.374963</td>\n",
       "      <td>4.494208</td>\n",
       "      <td>-73.601509</td>\n",
       "      <td>-59.026044</td>\n",
       "      <td>31.018751</td>\n",
       "      <td>90.943755</td>\n",
       "    </tr>\n",
       "    <tr>\n",
       "      <th>75%</th>\n",
       "      <td>8.000000</td>\n",
       "      <td>31.000000</td>\n",
       "      <td>0.912990</td>\n",
       "      <td>0.816280</td>\n",
       "      <td>3.346059</td>\n",
       "      <td>0.055212</td>\n",
       "      <td>220.000000</td>\n",
       "      <td>22.312366</td>\n",
       "      <td>81.569091</td>\n",
       "      <td>47.100937</td>\n",
       "      <td>206.796877</td>\n",
       "      <td>8.058701</td>\n",
       "      <td>-70.243455</td>\n",
       "      <td>-54.235420</td>\n",
       "      <td>38.663395</td>\n",
       "      <td>96.306253</td>\n",
       "    </tr>\n",
       "    <tr>\n",
       "      <th>max</th>\n",
       "      <td>14.000000</td>\n",
       "      <td>78.000000</td>\n",
       "      <td>0.958597</td>\n",
       "      <td>1.021573</td>\n",
       "      <td>5.261166</td>\n",
       "      <td>0.586461</td>\n",
       "      <td>800.000000</td>\n",
       "      <td>90.353511</td>\n",
       "      <td>505.870000</td>\n",
       "      <td>261.210274</td>\n",
       "      <td>570.312446</td>\n",
       "      <td>28.140622</td>\n",
       "      <td>-50.776325</td>\n",
       "      <td>-46.382814</td>\n",
       "      <td>57.518754</td>\n",
       "      <td>118.864585</td>\n",
       "    </tr>\n",
       "  </tbody>\n",
       "</table>\n",
       "</div>"
      ],
      "text/plain": [
       "       nr__number_stems  nr__number_bifurcations  nr__average_contraction  \\\n",
       "count        227.000000               227.000000               227.000000   \n",
       "mean           6.585903                25.101322                 0.895506   \n",
       "std            2.135949                11.376631                 0.028674   \n",
       "min            2.000000                 3.000000                 0.697496   \n",
       "25%            5.000000                17.000000                 0.881238   \n",
       "50%            7.000000                24.000000                 0.898836   \n",
       "75%            8.000000                31.000000                 0.912990   \n",
       "max           14.000000                78.000000                 0.958597   \n",
       "\n",
       "       nr__average_parent_daughter_ratio  \\\n",
       "count                         227.000000   \n",
       "mean                            0.768712   \n",
       "std                             0.071372   \n",
       "min                             0.446585   \n",
       "25%                             0.724031   \n",
       "50%                             0.774669   \n",
       "75%                             0.816280   \n",
       "max                             1.021573   \n",
       "\n",
       "       ef__upstroke_downstroke_ratio_long_square  ef__adaptation  \\\n",
       "count                                 615.000000      502.000000   \n",
       "mean                                    2.470953        0.046840   \n",
       "std                                     1.037507        0.072595   \n",
       "min                                     0.862726       -0.204913   \n",
       "25%                                     1.447692        0.006814   \n",
       "50%                                     2.459218        0.023820   \n",
       "75%                                     3.346059        0.055212   \n",
       "max                                     5.261166        0.586461   \n",
       "\n",
       "       ef__threshold_i_long_square     ef__tau  ef__avg_isi  \\\n",
       "count                   615.000000  615.000000   573.000000   \n",
       "mean                    164.658536   16.776006    60.449486   \n",
       "std                     122.713473    9.966241    50.028697   \n",
       "min                      10.000000    3.467032     3.828333   \n",
       "25%                      70.000000    8.356607    21.231000   \n",
       "50%                     130.000000   15.918908    53.760882   \n",
       "75%                     220.000000   22.312366    81.569091   \n",
       "max                     800.000000   90.353511   505.870000   \n",
       "\n",
       "       ef__avg_firing_rate      ef__ri  ef__peak_t_ramp   ef__vrest  \\\n",
       "count           573.000000  615.000000       579.000000  615.000000   \n",
       "mean             36.389130  170.094651         6.110615  -73.136684   \n",
       "std              39.240043   82.205505         4.628768    5.111332   \n",
       "min               1.976792   36.562462         0.284310  -85.449162   \n",
       "25%              12.259546  111.796895         2.720636  -76.837734   \n",
       "50%              18.600885  154.374963         4.494208  -73.601509   \n",
       "75%              47.100937  206.796877         8.058701  -70.243455   \n",
       "max             261.210274  570.312446        28.140622  -50.776325   \n",
       "\n",
       "       fast_trough_v_short_square  peak_v_short_square      height  \n",
       "count                  615.000000           615.000000  615.000000  \n",
       "mean                   -59.724947            30.187609   89.912556  \n",
       "std                      6.344713            11.004145    8.861045  \n",
       "min                    -78.525008            -1.515625   52.458336  \n",
       "25%                    -65.075002            22.370835   84.793754  \n",
       "50%                    -59.026044            31.018751   90.943755  \n",
       "75%                    -54.235420            38.663395   96.306253  \n",
       "max                    -46.382814            57.518754  118.864585  "
      ]
     },
     "execution_count": 53,
     "metadata": {},
     "output_type": "execute_result"
    }
   ],
   "source": [
    "data_sub = data_cre.iloc[:, 0:1]\n",
    "data_sub = data_sub.join(data_cre.iloc[:, 11:15]) #morphological data\n",
    "data_sub = data_sub.join(data_cre.iloc[:, 17:19]) #adaptation & reobase current\n",
    "data_sub = data_sub.join(data_cre.iloc[:, 20:27]) #membrane time constant \n",
    "data_sub = data_sub.join(data_cre['fast_trough_v_short_square'])\n",
    "data_sub = data_sub.join(data_cre['peak_v_short_square'])\n",
    "data_sub['height'] = data_sub['peak_v_short_square'] -data_sub['fast_trough_v_short_square'] # peak height\n",
    "data_sub = data_sub.join(data_cre['ExIn'])\n",
    "data_sub.describe()"
   ]
  },
  {
   "cell_type": "code",
   "execution_count": 54,
   "metadata": {
    "collapsed": false
   },
   "outputs": [
    {
     "data": {
      "text/html": [
       "<div>\n",
       "<table border=\"1\" class=\"dataframe\">\n",
       "  <thead>\n",
       "    <tr style=\"text-align: right;\">\n",
       "      <th></th>\n",
       "      <th>line_name</th>\n",
       "      <th>nr__number_stems</th>\n",
       "      <th>nr__number_bifurcations</th>\n",
       "      <th>nr__average_contraction</th>\n",
       "      <th>nr__average_parent_daughter_ratio</th>\n",
       "      <th>ef__upstroke_downstroke_ratio_long_square</th>\n",
       "      <th>ef__adaptation</th>\n",
       "      <th>ef__threshold_i_long_square</th>\n",
       "      <th>ef__tau</th>\n",
       "      <th>ef__avg_isi</th>\n",
       "      <th>ef__avg_firing_rate</th>\n",
       "      <th>ef__ri</th>\n",
       "      <th>ef__peak_t_ramp</th>\n",
       "      <th>ef__vrest</th>\n",
       "      <th>fast_trough_v_short_square</th>\n",
       "      <th>peak_v_short_square</th>\n",
       "      <th>height</th>\n",
       "      <th>ExIn</th>\n",
       "    </tr>\n",
       "  </thead>\n",
       "  <tbody>\n",
       "    <tr>\n",
       "      <th>0</th>\n",
       "      <td>Scnn1a-Tg2-Cre</td>\n",
       "      <td>8.0</td>\n",
       "      <td>40.0</td>\n",
       "      <td>0.882619</td>\n",
       "      <td>1.021573</td>\n",
       "      <td>5.261166</td>\n",
       "      <td>0.288858</td>\n",
       "      <td>190.0</td>\n",
       "      <td>17.653078</td>\n",
       "      <td>147.790000</td>\n",
       "      <td>6.766358</td>\n",
       "      <td>58.281287</td>\n",
       "      <td>2.552270</td>\n",
       "      <td>-63.574978</td>\n",
       "      <td>-52.906254</td>\n",
       "      <td>43.218750</td>\n",
       "      <td>96.125004</td>\n",
       "      <td>E</td>\n",
       "    </tr>\n",
       "    <tr>\n",
       "      <th>1</th>\n",
       "      <td>Rorb-IRES2-Cre</td>\n",
       "      <td>NaN</td>\n",
       "      <td>NaN</td>\n",
       "      <td>NaN</td>\n",
       "      <td>NaN</td>\n",
       "      <td>4.957590</td>\n",
       "      <td>0.097034</td>\n",
       "      <td>130.0</td>\n",
       "      <td>21.290832</td>\n",
       "      <td>106.357500</td>\n",
       "      <td>9.402252</td>\n",
       "      <td>189.375005</td>\n",
       "      <td>2.475857</td>\n",
       "      <td>-72.237417</td>\n",
       "      <td>-54.093752</td>\n",
       "      <td>49.296878</td>\n",
       "      <td>103.390630</td>\n",
       "      <td>E</td>\n",
       "    </tr>\n",
       "    <tr>\n",
       "      <th>2</th>\n",
       "      <td>Htr3a-Cre_NO152</td>\n",
       "      <td>NaN</td>\n",
       "      <td>NaN</td>\n",
       "      <td>NaN</td>\n",
       "      <td>NaN</td>\n",
       "      <td>4.843871</td>\n",
       "      <td>0.026744</td>\n",
       "      <td>230.0</td>\n",
       "      <td>6.668957</td>\n",
       "      <td>112.607500</td>\n",
       "      <td>8.880403</td>\n",
       "      <td>106.250000</td>\n",
       "      <td>12.004272</td>\n",
       "      <td>-78.260158</td>\n",
       "      <td>-64.953129</td>\n",
       "      <td>29.932292</td>\n",
       "      <td>94.885422</td>\n",
       "      <td>I</td>\n",
       "    </tr>\n",
       "    <tr>\n",
       "      <th>3</th>\n",
       "      <td>Cux2-CreERT2</td>\n",
       "      <td>NaN</td>\n",
       "      <td>NaN</td>\n",
       "      <td>NaN</td>\n",
       "      <td>NaN</td>\n",
       "      <td>4.815331</td>\n",
       "      <td>NaN</td>\n",
       "      <td>130.0</td>\n",
       "      <td>22.450481</td>\n",
       "      <td>140.730000</td>\n",
       "      <td>7.105805</td>\n",
       "      <td>151.562640</td>\n",
       "      <td>2.939443</td>\n",
       "      <td>-77.838111</td>\n",
       "      <td>-54.568751</td>\n",
       "      <td>37.500002</td>\n",
       "      <td>92.068753</td>\n",
       "      <td>E</td>\n",
       "    </tr>\n",
       "    <tr>\n",
       "      <th>4</th>\n",
       "      <td>Scnn1a-Tg3-Cre</td>\n",
       "      <td>NaN</td>\n",
       "      <td>NaN</td>\n",
       "      <td>NaN</td>\n",
       "      <td>NaN</td>\n",
       "      <td>4.756384</td>\n",
       "      <td>0.022992</td>\n",
       "      <td>50.0</td>\n",
       "      <td>28.245981</td>\n",
       "      <td>57.503437</td>\n",
       "      <td>17.390265</td>\n",
       "      <td>199.375002</td>\n",
       "      <td>2.150840</td>\n",
       "      <td>-76.375813</td>\n",
       "      <td>-51.493753</td>\n",
       "      <td>46.643752</td>\n",
       "      <td>98.137505</td>\n",
       "      <td>E</td>\n",
       "    </tr>\n",
       "  </tbody>\n",
       "</table>\n",
       "</div>"
      ],
      "text/plain": [
       "         line_name  nr__number_stems  nr__number_bifurcations  \\\n",
       "0   Scnn1a-Tg2-Cre               8.0                     40.0   \n",
       "1   Rorb-IRES2-Cre               NaN                      NaN   \n",
       "2  Htr3a-Cre_NO152               NaN                      NaN   \n",
       "3     Cux2-CreERT2               NaN                      NaN   \n",
       "4   Scnn1a-Tg3-Cre               NaN                      NaN   \n",
       "\n",
       "   nr__average_contraction  nr__average_parent_daughter_ratio  \\\n",
       "0                 0.882619                           1.021573   \n",
       "1                      NaN                                NaN   \n",
       "2                      NaN                                NaN   \n",
       "3                      NaN                                NaN   \n",
       "4                      NaN                                NaN   \n",
       "\n",
       "   ef__upstroke_downstroke_ratio_long_square  ef__adaptation  \\\n",
       "0                                   5.261166        0.288858   \n",
       "1                                   4.957590        0.097034   \n",
       "2                                   4.843871        0.026744   \n",
       "3                                   4.815331             NaN   \n",
       "4                                   4.756384        0.022992   \n",
       "\n",
       "   ef__threshold_i_long_square    ef__tau  ef__avg_isi  ef__avg_firing_rate  \\\n",
       "0                        190.0  17.653078   147.790000             6.766358   \n",
       "1                        130.0  21.290832   106.357500             9.402252   \n",
       "2                        230.0   6.668957   112.607500             8.880403   \n",
       "3                        130.0  22.450481   140.730000             7.105805   \n",
       "4                         50.0  28.245981    57.503437            17.390265   \n",
       "\n",
       "       ef__ri  ef__peak_t_ramp  ef__vrest  fast_trough_v_short_square  \\\n",
       "0   58.281287         2.552270 -63.574978                  -52.906254   \n",
       "1  189.375005         2.475857 -72.237417                  -54.093752   \n",
       "2  106.250000        12.004272 -78.260158                  -64.953129   \n",
       "3  151.562640         2.939443 -77.838111                  -54.568751   \n",
       "4  199.375002         2.150840 -76.375813                  -51.493753   \n",
       "\n",
       "   peak_v_short_square      height ExIn  \n",
       "0            43.218750   96.125004    E  \n",
       "1            49.296878  103.390630    E  \n",
       "2            29.932292   94.885422    I  \n",
       "3            37.500002   92.068753    E  \n",
       "4            46.643752   98.137505    E  "
      ]
     },
     "execution_count": 54,
     "metadata": {},
     "output_type": "execute_result"
    }
   ],
   "source": [
    "data_sub.head()"
   ]
  },
  {
   "cell_type": "markdown",
   "metadata": {},
   "source": [
    "### value counts"
   ]
  },
  {
   "cell_type": "code",
   "execution_count": 15,
   "metadata": {
    "collapsed": false
   },
   "outputs": [
    {
     "data": {
      "text/html": [
       "<div>\n",
       "<table border=\"1\" class=\"dataframe\">\n",
       "  <thead>\n",
       "    <tr style=\"text-align: right;\">\n",
       "      <th></th>\n",
       "      <th>line_name</th>\n",
       "    </tr>\n",
       "  </thead>\n",
       "  <tbody>\n",
       "    <tr>\n",
       "      <th>Pvalb-IRES-Cre</th>\n",
       "      <td>139</td>\n",
       "    </tr>\n",
       "    <tr>\n",
       "      <th>Sst-IRES-Cre</th>\n",
       "      <td>108</td>\n",
       "    </tr>\n",
       "    <tr>\n",
       "      <th>Htr3a-Cre_NO152</th>\n",
       "      <td>78</td>\n",
       "    </tr>\n",
       "    <tr>\n",
       "      <th>Rorb-IRES2-Cre</th>\n",
       "      <td>70</td>\n",
       "    </tr>\n",
       "    <tr>\n",
       "      <th>Rbp4-Cre_KL100</th>\n",
       "      <td>49</td>\n",
       "    </tr>\n",
       "    <tr>\n",
       "      <th>Cux2-CreERT2</th>\n",
       "      <td>44</td>\n",
       "    </tr>\n",
       "    <tr>\n",
       "      <th>Nr5a1-Cre</th>\n",
       "      <td>40</td>\n",
       "    </tr>\n",
       "    <tr>\n",
       "      <th>Scnn1a-Tg3-Cre</th>\n",
       "      <td>33</td>\n",
       "    </tr>\n",
       "    <tr>\n",
       "      <th>Ntsr1-Cre_GN220</th>\n",
       "      <td>19</td>\n",
       "    </tr>\n",
       "    <tr>\n",
       "      <th>Scnn1a-Tg2-Cre</th>\n",
       "      <td>15</td>\n",
       "    </tr>\n",
       "    <tr>\n",
       "      <th>Gad2-IRES-Cre</th>\n",
       "      <td>11</td>\n",
       "    </tr>\n",
       "    <tr>\n",
       "      <th>Slc17a6-IRES-Cre</th>\n",
       "      <td>3</td>\n",
       "    </tr>\n",
       "    <tr>\n",
       "      <th>Ntsr1-Cre</th>\n",
       "      <td>2</td>\n",
       "    </tr>\n",
       "    <tr>\n",
       "      <th>Vip-IRES-Cre</th>\n",
       "      <td>2</td>\n",
       "    </tr>\n",
       "    <tr>\n",
       "      <th>Ctgf-2A-dgCre</th>\n",
       "      <td>2</td>\n",
       "    </tr>\n",
       "  </tbody>\n",
       "</table>\n",
       "</div>"
      ],
      "text/plain": [
       "                  line_name\n",
       "Pvalb-IRES-Cre          139\n",
       "Sst-IRES-Cre            108\n",
       "Htr3a-Cre_NO152          78\n",
       "Rorb-IRES2-Cre           70\n",
       "Rbp4-Cre_KL100           49\n",
       "Cux2-CreERT2             44\n",
       "Nr5a1-Cre                40\n",
       "Scnn1a-Tg3-Cre           33\n",
       "Ntsr1-Cre_GN220          19\n",
       "Scnn1a-Tg2-Cre           15\n",
       "Gad2-IRES-Cre            11\n",
       "Slc17a6-IRES-Cre          3\n",
       "Ntsr1-Cre                 2\n",
       "Vip-IRES-Cre              2\n",
       "Ctgf-2A-dgCre             2"
      ]
     },
     "execution_count": 15,
     "metadata": {},
     "output_type": "execute_result"
    }
   ],
   "source": [
    "line_name_freq = pd.DataFrame(data_sub['line_name'].value_counts())\n",
    "line_name_freq"
   ]
  },
  {
   "cell_type": "code",
   "execution_count": 16,
   "metadata": {
    "collapsed": false
   },
   "outputs": [
    {
     "data": {
      "text/html": [
       "<div>\n",
       "<table border=\"1\" class=\"dataframe\">\n",
       "  <thead>\n",
       "    <tr style=\"text-align: right;\">\n",
       "      <th></th>\n",
       "      <th>ExIn</th>\n",
       "    </tr>\n",
       "  </thead>\n",
       "  <tbody>\n",
       "    <tr>\n",
       "      <th>I</th>\n",
       "      <td>308</td>\n",
       "    </tr>\n",
       "    <tr>\n",
       "      <th>E</th>\n",
       "      <td>242</td>\n",
       "    </tr>\n",
       "  </tbody>\n",
       "</table>\n",
       "</div>"
      ],
      "text/plain": [
       "   ExIn\n",
       "I   308\n",
       "E   242"
      ]
     },
     "execution_count": 16,
     "metadata": {},
     "output_type": "execute_result"
    }
   ],
   "source": [
    "ExIn_freq = pd.DataFrame(data_sub['ExIn'].value_counts())\n",
    "ExIn_freq"
   ]
  },
  {
   "cell_type": "markdown",
   "metadata": {},
   "source": [
    "## draw plot. vilon plot"
   ]
  },
  {
   "cell_type": "code",
   "execution_count": 41,
   "metadata": {
    "collapsed": false
   },
   "outputs": [],
   "source": [
    "# test\n",
    "import seaborn as sns\n",
    "sns.set_style(\"whitegrid\")\n",
    "sns.set_palette(sns.color_palette(\"Greys\", n_colors=2))"
   ]
  },
  {
   "cell_type": "code",
   "execution_count": 43,
   "metadata": {
    "collapsed": false
   },
   "outputs": [
    {
     "data": {
      "text/plain": [
       "<matplotlib.axes._subplots.AxesSubplot at 0x7f564eb673d0>"
      ]
     },
     "execution_count": 43,
     "metadata": {},
     "output_type": "execute_result"
    },
    {
     "data": {
      "image/png": "[encoded data removed]",
      "text/plain": [
       "<matplotlib.figure.Figure at 0x7f564e25ced0>"
      ]
     },
     "metadata": {},
     "output_type": "display_data"
    }
   ],
   "source": [
    "sns.boxplot(x = 'ExIn', y = 'height', data=data_sub)"
   ]
  },
  {
   "cell_type": "code",
   "execution_count": 44,
   "metadata": {
    "collapsed": false
   },
   "outputs": [
    {
     "data": {
      "text/plain": [
       "<matplotlib.axes._subplots.AxesSubplot at 0x7f564e21e910>"
      ]
     },
     "execution_count": 44,
     "metadata": {},
     "output_type": "execute_result"
    },
    {
     "data": {
      "image/png": "[encoded data removed]",
      "text/plain": [
       "<matplotlib.figure.Figure at 0x7f564ec95f50>"
      ]
     },
     "metadata": {},
     "output_type": "display_data"
    }
   ],
   "source": [
    "sns.boxplot(x = 'ExIn', y = 'peak_v_short_square', data=data_sub)"
   ]
  },
  {
   "cell_type": "code",
   "execution_count": 45,
   "metadata": {
    "collapsed": false
   },
   "outputs": [
    {
     "data": {
      "text/plain": [
       "<matplotlib.axes._subplots.AxesSubplot at 0x7f564e102f10>"
      ]
     },
     "execution_count": 45,
     "metadata": {},
     "output_type": "execute_result"
    },
    {
     "data": {
      "image/png": "[encoded data removed]",
      "text/plain": [
       "<matplotlib.figure.Figure at 0x7f564e03bbd0>"
      ]
     },
     "metadata": {},
     "output_type": "display_data"
    }
   ],
   "source": [
    "sns.boxplot(x = 'ExIn', y = 'ef__vrest', data=data_sub)"
   ]
  },
  {
   "cell_type": "code",
   "execution_count": 46,
   "metadata": {
    "collapsed": false
   },
   "outputs": [
    {
     "data": {
      "text/plain": [
       "<matplotlib.axes._subplots.AxesSubplot at 0x7f564e110610>"
      ]
     },
     "execution_count": 46,
     "metadata": {},
     "output_type": "execute_result"
    },
    {
     "data": {
      "image/png": "[encoded data removed]",
      "text/plain": [
       "<matplotlib.figure.Figure at 0x7f564df9f990>"
      ]
     },
     "metadata": {},
     "output_type": "display_data"
    }
   ],
   "source": [
    "sns.boxplot(x = 'ExIn', y = 'fast_trough_v_short_square', data=data_sub)"
   ]
  },
  {
   "cell_type": "code",
   "execution_count": 47,
   "metadata": {
    "collapsed": false
   },
   "outputs": [
    {
     "data": {
      "text/plain": [
       "<matplotlib.axes._subplots.AxesSubplot at 0x7f564df298d0>"
      ]
     },
     "execution_count": 47,
     "metadata": {},
     "output_type": "execute_result"
    },
    {
     "data": {
      "image/png": "[encoded data removed]",
      "text/plain": [
       "<matplotlib.figure.Figure at 0x7f564e007b10>"
      ]
     },
     "metadata": {},
     "output_type": "display_data"
    }
   ],
   "source": [
    "sns.boxplot(x = 'ExIn', y = 'ef__tau', data=data_sub)"
   ]
  },
  {
   "cell_type": "code",
   "execution_count": 48,
   "metadata": {
    "collapsed": false
   },
   "outputs": [
    {
     "data": {
      "text/plain": [
       "<matplotlib.axes._subplots.AxesSubplot at 0x7f564de83b50>"
      ]
     },
     "execution_count": 48,
     "metadata": {},
     "output_type": "execute_result"
    },
    {
     "data": {
      "image/png": "[encoded data removed]",
      "text/plain": [
       "<matplotlib.figure.Figure at 0x7f564dd71dd0>"
      ]
     },
     "metadata": {},
     "output_type": "display_data"
    }
   ],
   "source": [
    "sns.boxplot(x = 'ExIn', y = 'ef__avg_firing_rate', data=data_sub)"
   ]
  },
  {
   "cell_type": "code",
   "execution_count": 49,
   "metadata": {
    "collapsed": false
   },
   "outputs": [
    {
     "data": {
      "text/plain": [
       "<matplotlib.axes._subplots.AxesSubplot at 0x7f564dd2b350>"
      ]
     },
     "execution_count": 49,
     "metadata": {},
     "output_type": "execute_result"
    },
    {
     "data": {
      "image/png": "[encoded data removed]",
      "text/plain": [
       "<matplotlib.figure.Figure at 0x7f564dd71750>"
      ]
     },
     "metadata": {},
     "output_type": "display_data"
    }
   ],
   "source": [
    "sns.boxplot(x = 'ExIn', y = 'ef__adaptation', data=data_sub)"
   ]
  },
  {
   "cell_type": "code",
   "execution_count": 50,
   "metadata": {
    "collapsed": false
   },
   "outputs": [
    {
     "data": {
      "text/plain": [
       "<matplotlib.axes._subplots.AxesSubplot at 0x7f564dc85f90>"
      ]
     },
     "execution_count": 50,
     "metadata": {},
     "output_type": "execute_result"
    },
    {
     "data": {
      "image/png": "[encoded data removed]",
      "text/plain": [
       "<matplotlib.figure.Figure at 0x7f564dd71cd0>"
      ]
     },
     "metadata": {},
     "output_type": "display_data"
    }
   ],
   "source": [
    "sns.boxplot(x = 'ExIn', y = 'ef__ri', data=data_sub)"
   ]
  },
  {
   "cell_type": "markdown",
   "metadata": {},
   "source": [
    "## process for PCA"
   ]
  },
  {
   "cell_type": "code",
   "execution_count": 61,
   "metadata": {
    "collapsed": true
   },
   "outputs": [],
   "source": [
    "from sklearn.decomposition import PCA\n",
    "from sklearn.preprocessing import scale"
   ]
  },
  {
   "cell_type": "code",
   "execution_count": 56,
   "metadata": {
    "collapsed": false
   },
   "outputs": [
    {
     "data": {
      "text/html": [
       "<div>\n",
       "<table border=\"1\" class=\"dataframe\">\n",
       "  <thead>\n",
       "    <tr style=\"text-align: right;\">\n",
       "      <th></th>\n",
       "      <th>ef__upstroke_downstroke_ratio_long_square</th>\n",
       "      <th>ef__adaptation</th>\n",
       "      <th>ef__threshold_i_long_square</th>\n",
       "      <th>ef__tau</th>\n",
       "      <th>ef__avg_isi</th>\n",
       "      <th>ef__avg_firing_rate</th>\n",
       "      <th>ef__ri</th>\n",
       "      <th>ef__peak_t_ramp</th>\n",
       "      <th>ef__vrest</th>\n",
       "      <th>fast_trough_v_short_square</th>\n",
       "      <th>peak_v_short_square</th>\n",
       "      <th>height</th>\n",
       "      <th>ExIn</th>\n",
       "    </tr>\n",
       "  </thead>\n",
       "  <tbody>\n",
       "    <tr>\n",
       "      <th>0</th>\n",
       "      <td>5.261166</td>\n",
       "      <td>0.288858</td>\n",
       "      <td>190.0</td>\n",
       "      <td>17.653078</td>\n",
       "      <td>147.790000</td>\n",
       "      <td>6.766358</td>\n",
       "      <td>58.281287</td>\n",
       "      <td>2.552270</td>\n",
       "      <td>-63.574978</td>\n",
       "      <td>-52.906254</td>\n",
       "      <td>43.218750</td>\n",
       "      <td>96.125004</td>\n",
       "      <td>E</td>\n",
       "    </tr>\n",
       "    <tr>\n",
       "      <th>1</th>\n",
       "      <td>4.957590</td>\n",
       "      <td>0.097034</td>\n",
       "      <td>130.0</td>\n",
       "      <td>21.290832</td>\n",
       "      <td>106.357500</td>\n",
       "      <td>9.402252</td>\n",
       "      <td>189.375005</td>\n",
       "      <td>2.475857</td>\n",
       "      <td>-72.237417</td>\n",
       "      <td>-54.093752</td>\n",
       "      <td>49.296878</td>\n",
       "      <td>103.390630</td>\n",
       "      <td>E</td>\n",
       "    </tr>\n",
       "    <tr>\n",
       "      <th>2</th>\n",
       "      <td>4.843871</td>\n",
       "      <td>0.026744</td>\n",
       "      <td>230.0</td>\n",
       "      <td>6.668957</td>\n",
       "      <td>112.607500</td>\n",
       "      <td>8.880403</td>\n",
       "      <td>106.250000</td>\n",
       "      <td>12.004272</td>\n",
       "      <td>-78.260158</td>\n",
       "      <td>-64.953129</td>\n",
       "      <td>29.932292</td>\n",
       "      <td>94.885422</td>\n",
       "      <td>I</td>\n",
       "    </tr>\n",
       "    <tr>\n",
       "      <th>3</th>\n",
       "      <td>4.815331</td>\n",
       "      <td>NaN</td>\n",
       "      <td>130.0</td>\n",
       "      <td>22.450481</td>\n",
       "      <td>140.730000</td>\n",
       "      <td>7.105805</td>\n",
       "      <td>151.562640</td>\n",
       "      <td>2.939443</td>\n",
       "      <td>-77.838111</td>\n",
       "      <td>-54.568751</td>\n",
       "      <td>37.500002</td>\n",
       "      <td>92.068753</td>\n",
       "      <td>E</td>\n",
       "    </tr>\n",
       "    <tr>\n",
       "      <th>4</th>\n",
       "      <td>4.756384</td>\n",
       "      <td>0.022992</td>\n",
       "      <td>50.0</td>\n",
       "      <td>28.245981</td>\n",
       "      <td>57.503437</td>\n",
       "      <td>17.390265</td>\n",
       "      <td>199.375002</td>\n",
       "      <td>2.150840</td>\n",
       "      <td>-76.375813</td>\n",
       "      <td>-51.493753</td>\n",
       "      <td>46.643752</td>\n",
       "      <td>98.137505</td>\n",
       "      <td>E</td>\n",
       "    </tr>\n",
       "  </tbody>\n",
       "</table>\n",
       "</div>"
      ],
      "text/plain": [
       "   ef__upstroke_downstroke_ratio_long_square  ef__adaptation  \\\n",
       "0                                   5.261166        0.288858   \n",
       "1                                   4.957590        0.097034   \n",
       "2                                   4.843871        0.026744   \n",
       "3                                   4.815331             NaN   \n",
       "4                                   4.756384        0.022992   \n",
       "\n",
       "   ef__threshold_i_long_square    ef__tau  ef__avg_isi  ef__avg_firing_rate  \\\n",
       "0                        190.0  17.653078   147.790000             6.766358   \n",
       "1                        130.0  21.290832   106.357500             9.402252   \n",
       "2                        230.0   6.668957   112.607500             8.880403   \n",
       "3                        130.0  22.450481   140.730000             7.105805   \n",
       "4                         50.0  28.245981    57.503437            17.390265   \n",
       "\n",
       "       ef__ri  ef__peak_t_ramp  ef__vrest  fast_trough_v_short_square  \\\n",
       "0   58.281287         2.552270 -63.574978                  -52.906254   \n",
       "1  189.375005         2.475857 -72.237417                  -54.093752   \n",
       "2  106.250000        12.004272 -78.260158                  -64.953129   \n",
       "3  151.562640         2.939443 -77.838111                  -54.568751   \n",
       "4  199.375002         2.150840 -76.375813                  -51.493753   \n",
       "\n",
       "   peak_v_short_square      height ExIn  \n",
       "0            43.218750   96.125004    E  \n",
       "1            49.296878  103.390630    E  \n",
       "2            29.932292   94.885422    I  \n",
       "3            37.500002   92.068753    E  \n",
       "4            46.643752   98.137505    E  "
      ]
     },
     "execution_count": 56,
     "metadata": {},
     "output_type": "execute_result"
    }
   ],
   "source": [
    "data_ephysub = data_sub.iloc[:, 5:]\n",
    "data_ephysub.head()"
   ]
  },
  {
   "cell_type": "code",
   "execution_count": 58,
   "metadata": {
    "collapsed": false
   },
   "outputs": [
    {
     "data": {
      "text/plain": [
       "450"
      ]
     },
     "execution_count": 58,
     "metadata": {},
     "output_type": "execute_result"
    }
   ],
   "source": [
    "data_ephysub_wona = data_ephysub.dropna(how='any') #dropping row containing NAN value.\n",
    "len(data_ephysub_wona)"
   ]
  },
  {
   "cell_type": "code",
   "execution_count": 66,
   "metadata": {
    "collapsed": false
   },
   "outputs": [],
   "source": [
    "data_ephysub_np = data_ephysub_wona.iloc[:,0:-1]\n",
    "sub_np = data_ephysub_np.values # numpy array\n",
    "sub_np = scale(sub_np) # normalization\n",
    "# check scatter plot after scaling - doesn't change data pattern\n",
    "# scatter = pd.tools.plotting.scatter_matrix(data_ephysub_np, alpha=0.2, figsize = (32,32), diagonal = 'kde')\n",
    "# scatter_scaled = pd.tools.plotting.scatter_matrix(pd.DataFrame(sub_np), alpha=0.2, figsize = (32,32), diagonal = 'kde')"
   ]
  },
  {
   "cell_type": "code",
   "execution_count": 71,
   "metadata": {
    "collapsed": false
   },
   "outputs": [
    {
     "name": "stdout",
     "output_type": "stream",
     "text": [
      "[  38.16   61.06   72.31   80.24   85.87   90.15   93.98   96.01   97.79\n",
      "   99.23  100.01  100.01]\n"
     ]
    },
    {
     "data": {
      "text/plain": [
       "[<matplotlib.lines.Line2D at 0x7f564a2cdd90>]"
      ]
     },
     "execution_count": 71,
     "metadata": {},
     "output_type": "execute_result"
    },
    {
     "data": {
      "image/png": "[encoded data removed]",
      "text/plain": [
       "<matplotlib.figure.Figure at 0x7f564a360710>"
      ]
     },
     "metadata": {},
     "output_type": "display_data"
    }
   ],
   "source": [
    "pca = PCA(n_components = 12)\n",
    "pca.fit(sub_np)\n",
    "var= pca.explained_variance_ratio_\n",
    "var1=np.cumsum(np.round(pca.explained_variance_ratio_, decimals=4)*100)\n",
    "print var1 #cumulative explained propotion in variation. \n",
    "plt.plot(var1)"
   ]
  },
  {
   "cell_type": "code",
   "execution_count": 72,
   "metadata": {
    "collapsed": true
   },
   "outputs": [],
   "source": [
    "np_pca=pca.fit_transform(sub_np) "
   ]
  },
  {
   "cell_type": "code",
   "execution_count": 80,
   "metadata": {
    "collapsed": false
   },
   "outputs": [],
   "source": [
    "def color_EI(exin): # making color code for excitory vs inbihitory cre line\n",
    "    output = []\n",
    "    for item in exin:\n",
    "        if (item == 'E'):\n",
    "                output = output + ['r']\n",
    "        else:\n",
    "            output = output + ['g']\n",
    "    return output\n",
    "EI_c = []\n",
    "EI_c = color_EI(data_ephysub['ExIn'])"
   ]
  },
  {
   "cell_type": "code",
   "execution_count": 81,
   "metadata": {
    "collapsed": false
   },
   "outputs": [
    {
     "data": {
      "text/plain": [
       "<matplotlib.collections.PathCollection at 0x7f5649371bd0>"
      ]
     },
     "execution_count": 81,
     "metadata": {},
     "output_type": "execute_result"
    },
    {
     "data": {
      "image/png": "[encoded data removed]",
      "text/plain": [
       "<matplotlib.figure.Figure at 0x7f56492b5950>"
      ]
     },
     "metadata": {},
     "output_type": "display_data"
    }
   ],
   "source": [
    "plt.scatter(np_pca[:,0], np_pca[:,1], c = EI_c, alpha = .2)"
   ]
  },
  {
   "cell_type": "code",
   "execution_count": null,
   "metadata": {
    "collapsed": true
   },
   "outputs": [],
   "source": []
  },
  {
   "cell_type": "code",
   "execution_count": null,
   "metadata": {
    "collapsed": true
   },
   "outputs": [],
   "source": []
  },
  {
   "cell_type": "code",
   "execution_count": null,
   "metadata": {
    "collapsed": true
   },
   "outputs": [],
   "source": []
  }
 ],
 "metadata": {
  "anaconda-cloud": {},
  "kernelspec": {
   "display_name": "Python 2",
   "language": "python",
   "name": "python2"
  },
  "language_info": {
   "codemirror_mode": {
    "name": "ipython",
    "version": 2
   },
   "file_extension": ".py",
   "mimetype": "text/x-python",
   "name": "python",
   "nbconvert_exporter": "python",
   "pygments_lexer": "ipython2",
   "version": "2.7.9"
  }
 },
 "nbformat": 4,
 "nbformat_minor": 0
}
