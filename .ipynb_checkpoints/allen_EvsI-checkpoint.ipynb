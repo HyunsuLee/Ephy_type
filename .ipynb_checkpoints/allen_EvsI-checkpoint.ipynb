{
 "cells": [
  {
   "cell_type": "markdown",
   "metadata": {},
   "source": [
    "# Inhibitory vs Exitatory\n",
    "\n",
    "### creline reporter positive only"
   ]
  },
  {
   "cell_type": "code",
   "execution_count": 1,
   "metadata": {
    "collapsed": true
   },
   "outputs": [],
   "source": [
    "%matplotlib inline\n",
    "\n",
    "import numpy as np\n",
    "import pandas as pd\n",
    "import matplotlib.pyplot as plt"
   ]
  },
  {
   "cell_type": "markdown",
   "metadata": {},
   "source": [
    "### Data load & check"
   ]
  },
  {
   "cell_type": "code",
   "execution_count": 3,
   "metadata": {
    "collapsed": false
   },
   "outputs": [
    {
     "data": {
      "text/html": [
       "<div>\n",
       "<table border=\"1\" class=\"dataframe\">\n",
       "  <thead>\n",
       "    <tr style=\"text-align: right;\">\n",
       "      <th></th>\n",
       "      <th>line_name</th>\n",
       "      <th>specimen__id</th>\n",
       "      <th>specimen__name</th>\n",
       "      <th>specimen__hemisphere</th>\n",
       "      <th>structure__id</th>\n",
       "      <th>structure__name</th>\n",
       "      <th>structure__acronym</th>\n",
       "      <th>structure_parent__id</th>\n",
       "      <th>structure_parent__acronym</th>\n",
       "      <th>structure__layer</th>\n",
       "      <th>...</th>\n",
       "      <th>cell_reporter_status</th>\n",
       "      <th>m__glif</th>\n",
       "      <th>m__biophys_perisomatic</th>\n",
       "      <th>m__biophys_all_active</th>\n",
       "      <th>tag__apical</th>\n",
       "      <th>tag__dendrite_type</th>\n",
       "      <th>morph_thumb_path</th>\n",
       "      <th>ephys_thumb_path</th>\n",
       "      <th>ephys_inst_thresh_thumb_path</th>\n",
       "      <th>id</th>\n",
       "    </tr>\n",
       "  </thead>\n",
       "  <tbody>\n",
       "    <tr>\n",
       "      <th>0</th>\n",
       "      <td>Scnn1a-Tg2-Cre</td>\n",
       "      <td>313862022</td>\n",
       "      <td>Scnn1a-Tg2-Cre;Ai14-167081.03.02.01</td>\n",
       "      <td>right</td>\n",
       "      <td>721</td>\n",
       "      <td>Primary visual area, layer 4</td>\n",
       "      <td>VISp4</td>\n",
       "      <td>385</td>\n",
       "      <td>VISp</td>\n",
       "      <td>4</td>\n",
       "      <td>...</td>\n",
       "      <td>cre reporter positive</td>\n",
       "      <td>0</td>\n",
       "      <td>1</td>\n",
       "      <td>0</td>\n",
       "      <td>intact</td>\n",
       "      <td>spiny</td>\n",
       "      <td>/api/v2/well_known_file_download/487659609</td>\n",
       "      <td>/api/v2/well_known_file_download/487623088</td>\n",
       "      <td>/api/v2/well_known_file_download/491376069</td>\n",
       "      <td>606</td>\n",
       "    </tr>\n",
       "    <tr>\n",
       "      <th>1</th>\n",
       "      <td>Rorb-IRES2-Cre</td>\n",
       "      <td>479508018</td>\n",
       "      <td>Rorb-IRES2-Cre-D;Ai14-196662.03.01.01</td>\n",
       "      <td>left</td>\n",
       "      <td>721</td>\n",
       "      <td>Primary visual area, layer 4</td>\n",
       "      <td>VISp4</td>\n",
       "      <td>385</td>\n",
       "      <td>VISp</td>\n",
       "      <td>4</td>\n",
       "      <td>...</td>\n",
       "      <td>cre reporter positive</td>\n",
       "      <td>2</td>\n",
       "      <td>0</td>\n",
       "      <td>0</td>\n",
       "      <td>intact</td>\n",
       "      <td>spiny</td>\n",
       "      <td>NaN</td>\n",
       "      <td>/api/v2/well_known_file_download/491384619</td>\n",
       "      <td>/api/v2/well_known_file_download/491384621</td>\n",
       "      <td>522</td>\n",
       "    </tr>\n",
       "    <tr>\n",
       "      <th>2</th>\n",
       "      <td>Htr3a-Cre_NO152</td>\n",
       "      <td>442627661</td>\n",
       "      <td>Htr3a-Cre_NO152;Ai14-178904.06.01.01</td>\n",
       "      <td>left</td>\n",
       "      <td>312782566</td>\n",
       "      <td>Anterior area, layer 6a</td>\n",
       "      <td>VISa6a</td>\n",
       "      <td>312782546</td>\n",
       "      <td>VISa</td>\n",
       "      <td>6a</td>\n",
       "      <td>...</td>\n",
       "      <td>cre reporter positive</td>\n",
       "      <td>0</td>\n",
       "      <td>0</td>\n",
       "      <td>0</td>\n",
       "      <td>NaN</td>\n",
       "      <td>aspiny</td>\n",
       "      <td>NaN</td>\n",
       "      <td>/api/v2/well_known_file_download/487610447</td>\n",
       "      <td>/api/v2/well_known_file_download/491377923</td>\n",
       "      <td>81</td>\n",
       "    </tr>\n",
       "    <tr>\n",
       "      <th>3</th>\n",
       "      <td>Cux2-CreERT2</td>\n",
       "      <td>487358945</td>\n",
       "      <td>Cux2-CreERT2;Ai14-214155.05.01.01</td>\n",
       "      <td>left</td>\n",
       "      <td>778</td>\n",
       "      <td>Primary visual area, layer 5</td>\n",
       "      <td>VISp5</td>\n",
       "      <td>385</td>\n",
       "      <td>VISp</td>\n",
       "      <td>5</td>\n",
       "      <td>...</td>\n",
       "      <td>cre reporter positive</td>\n",
       "      <td>5</td>\n",
       "      <td>0</td>\n",
       "      <td>0</td>\n",
       "      <td>intact</td>\n",
       "      <td>spiny</td>\n",
       "      <td>NaN</td>\n",
       "      <td>/api/v2/well_known_file_download/487361512</td>\n",
       "      <td>/api/v2/well_known_file_download/491767690</td>\n",
       "      <td>38</td>\n",
       "    </tr>\n",
       "    <tr>\n",
       "      <th>4</th>\n",
       "      <td>Scnn1a-Tg3-Cre</td>\n",
       "      <td>469803127</td>\n",
       "      <td>Scnn1a-Tg3-Cre;Ai14-180215.05.02.01</td>\n",
       "      <td>right</td>\n",
       "      <td>778</td>\n",
       "      <td>Primary visual area, layer 5</td>\n",
       "      <td>VISp5</td>\n",
       "      <td>385</td>\n",
       "      <td>VISp</td>\n",
       "      <td>5</td>\n",
       "      <td>...</td>\n",
       "      <td>cre reporter positive</td>\n",
       "      <td>5</td>\n",
       "      <td>0</td>\n",
       "      <td>0</td>\n",
       "      <td>intact</td>\n",
       "      <td>spiny</td>\n",
       "      <td>NaN</td>\n",
       "      <td>/api/v2/well_known_file_download/487635954</td>\n",
       "      <td>/api/v2/well_known_file_download/491376335</td>\n",
       "      <td>671</td>\n",
       "    </tr>\n",
       "  </tbody>\n",
       "</table>\n",
       "<p>5 rows × 44 columns</p>\n",
       "</div>"
      ],
      "text/plain": [
       "         line_name  specimen__id                         specimen__name  \\\n",
       "0   Scnn1a-Tg2-Cre     313862022    Scnn1a-Tg2-Cre;Ai14-167081.03.02.01   \n",
       "1   Rorb-IRES2-Cre     479508018  Rorb-IRES2-Cre-D;Ai14-196662.03.01.01   \n",
       "2  Htr3a-Cre_NO152     442627661   Htr3a-Cre_NO152;Ai14-178904.06.01.01   \n",
       "3     Cux2-CreERT2     487358945      Cux2-CreERT2;Ai14-214155.05.01.01   \n",
       "4   Scnn1a-Tg3-Cre     469803127    Scnn1a-Tg3-Cre;Ai14-180215.05.02.01   \n",
       "\n",
       "  specimen__hemisphere  structure__id               structure__name  \\\n",
       "0                right            721  Primary visual area, layer 4   \n",
       "1                 left            721  Primary visual area, layer 4   \n",
       "2                 left      312782566       Anterior area, layer 6a   \n",
       "3                 left            778  Primary visual area, layer 5   \n",
       "4                right            778  Primary visual area, layer 5   \n",
       "\n",
       "  structure__acronym  structure_parent__id structure_parent__acronym  \\\n",
       "0              VISp4                   385                      VISp   \n",
       "1              VISp4                   385                      VISp   \n",
       "2             VISa6a             312782546                      VISa   \n",
       "3              VISp5                   385                      VISp   \n",
       "4              VISp5                   385                      VISp   \n",
       "\n",
       "  structure__layer ...    cell_reporter_status  m__glif  \\\n",
       "0                4 ...   cre reporter positive        0   \n",
       "1                4 ...   cre reporter positive        2   \n",
       "2               6a ...   cre reporter positive        0   \n",
       "3                5 ...   cre reporter positive        5   \n",
       "4                5 ...   cre reporter positive        5   \n",
       "\n",
       "   m__biophys_perisomatic  m__biophys_all_active  tag__apical  \\\n",
       "0                       1                      0       intact   \n",
       "1                       0                      0       intact   \n",
       "2                       0                      0          NaN   \n",
       "3                       0                      0       intact   \n",
       "4                       0                      0       intact   \n",
       "\n",
       "   tag__dendrite_type                            morph_thumb_path  \\\n",
       "0               spiny  /api/v2/well_known_file_download/487659609   \n",
       "1               spiny                                         NaN   \n",
       "2              aspiny                                         NaN   \n",
       "3               spiny                                         NaN   \n",
       "4               spiny                                         NaN   \n",
       "\n",
       "                             ephys_thumb_path  \\\n",
       "0  /api/v2/well_known_file_download/487623088   \n",
       "1  /api/v2/well_known_file_download/491384619   \n",
       "2  /api/v2/well_known_file_download/487610447   \n",
       "3  /api/v2/well_known_file_download/487361512   \n",
       "4  /api/v2/well_known_file_download/487635954   \n",
       "\n",
       "                 ephys_inst_thresh_thumb_path   id  \n",
       "0  /api/v2/well_known_file_download/491376069  606  \n",
       "1  /api/v2/well_known_file_download/491384621  522  \n",
       "2  /api/v2/well_known_file_download/491377923   81  \n",
       "3  /api/v2/well_known_file_download/491767690   38  \n",
       "4  /api/v2/well_known_file_download/491376335  671  \n",
       "\n",
       "[5 rows x 44 columns]"
      ]
     },
     "execution_count": 3,
     "metadata": {},
     "output_type": "execute_result"
    }
   ],
   "source": [
    "data = pd.read_csv('cell_data.csv')\n",
    "data.head()"
   ]
  },
  {
   "cell_type": "code",
   "execution_count": 5,
   "metadata": {
    "collapsed": false
   },
   "outputs": [
    {
     "data": {
      "text/plain": [
       "692"
      ]
     },
     "execution_count": 5,
     "metadata": {},
     "output_type": "execute_result"
    }
   ],
   "source": [
    "len(data)"
   ]
  },
  {
   "cell_type": "markdown",
   "metadata": {},
   "source": [
    "### Whole data fearture 44, observation 692"
   ]
  },
  {
   "cell_type": "code",
   "execution_count": 6,
   "metadata": {
    "collapsed": false
   },
   "outputs": [
    {
     "data": {
      "text/plain": [
       "615"
      ]
     },
     "execution_count": 6,
     "metadata": {},
     "output_type": "execute_result"
    }
   ],
   "source": [
    "data_cre = data[data['cell_reporter_status'] == 'cre reporter positive']\n",
    "len(data_cre)"
   ]
  },
  {
   "cell_type": "markdown",
   "metadata": {},
   "source": [
    "### cre positive cell 615"
   ]
  },
  {
   "cell_type": "markdown",
   "metadata": {},
   "source": [
    "### cre reporter posivitive cells tagging."
   ]
  },
  {
   "cell_type": "code",
   "execution_count": 19,
   "metadata": {
    "collapsed": false
   },
   "outputs": [
    {
     "ename": "ValueError",
     "evalue": "columns overlap but no suffix specified: Index(['ExIn'], dtype='object')",
     "output_type": "error",
     "traceback": [
      "\u001b[1;31m---------------------------------------------------------------------------\u001b[0m",
      "\u001b[1;31mValueError\u001b[0m                                Traceback (most recent call last)",
      "\u001b[1;32m<ipython-input-19-2dccd7ed99a6>\u001b[0m in \u001b[0;36m<module>\u001b[1;34m()\u001b[0m\n\u001b[0;32m     12\u001b[0m \u001b[0mExIn\u001b[0m \u001b[1;33m=\u001b[0m \u001b[0mdis_EI\u001b[0m\u001b[1;33m(\u001b[0m\u001b[0mdata_cre\u001b[0m\u001b[1;33m[\u001b[0m\u001b[1;34m'line_name'\u001b[0m\u001b[1;33m]\u001b[0m\u001b[1;33m)\u001b[0m \u001b[1;31m# this is python list!!\u001b[0m\u001b[1;33m\u001b[0m\u001b[0m\n\u001b[0;32m     13\u001b[0m \u001b[0mExIn_pd\u001b[0m \u001b[1;33m=\u001b[0m \u001b[0mpd\u001b[0m\u001b[1;33m.\u001b[0m\u001b[0mDataFrame\u001b[0m\u001b[1;33m(\u001b[0m\u001b[1;33m{\u001b[0m\u001b[1;34m'ExIn'\u001b[0m\u001b[1;33m:\u001b[0m \u001b[0mExIn\u001b[0m\u001b[1;33m}\u001b[0m\u001b[1;33m)\u001b[0m \u001b[1;31m# making pandas frame\u001b[0m\u001b[1;33m\u001b[0m\u001b[0m\n\u001b[1;32m---> 14\u001b[1;33m \u001b[0mdata_cre\u001b[0m \u001b[1;33m=\u001b[0m \u001b[0mdata_cre\u001b[0m\u001b[1;33m.\u001b[0m\u001b[0mjoin\u001b[0m\u001b[1;33m(\u001b[0m\u001b[0mExIn_pd\u001b[0m\u001b[1;33m)\u001b[0m\u001b[1;33m\u001b[0m\u001b[0m\n\u001b[0m",
      "\u001b[1;32m/home/hyunsu/anaconda3/lib/python3.5/site-packages/pandas/core/frame.py\u001b[0m in \u001b[0;36mjoin\u001b[1;34m(self, other, on, how, lsuffix, rsuffix, sort)\u001b[0m\n\u001b[0;32m   4383\u001b[0m         \u001b[1;31m# For SparseDataFrame's benefit\u001b[0m\u001b[1;33m\u001b[0m\u001b[1;33m\u001b[0m\u001b[0m\n\u001b[0;32m   4384\u001b[0m         return self._join_compat(other, on=on, how=how, lsuffix=lsuffix,\n\u001b[1;32m-> 4385\u001b[1;33m                                  rsuffix=rsuffix, sort=sort)\n\u001b[0m\u001b[0;32m   4386\u001b[0m \u001b[1;33m\u001b[0m\u001b[0m\n\u001b[0;32m   4387\u001b[0m     def _join_compat(self, other, on=None, how='left', lsuffix='', rsuffix='',\n",
      "\u001b[1;32m/home/hyunsu/anaconda3/lib/python3.5/site-packages/pandas/core/frame.py\u001b[0m in \u001b[0;36m_join_compat\u001b[1;34m(self, other, on, how, lsuffix, rsuffix, sort)\u001b[0m\n\u001b[0;32m   4397\u001b[0m             return merge(self, other, left_on=on, how=how,\n\u001b[0;32m   4398\u001b[0m                          \u001b[0mleft_index\u001b[0m\u001b[1;33m=\u001b[0m\u001b[0mon\u001b[0m \u001b[1;32mis\u001b[0m \u001b[1;32mNone\u001b[0m\u001b[1;33m,\u001b[0m \u001b[0mright_index\u001b[0m\u001b[1;33m=\u001b[0m\u001b[1;32mTrue\u001b[0m\u001b[1;33m,\u001b[0m\u001b[1;33m\u001b[0m\u001b[0m\n\u001b[1;32m-> 4399\u001b[1;33m                          suffixes=(lsuffix, rsuffix), sort=sort)\n\u001b[0m\u001b[0;32m   4400\u001b[0m         \u001b[1;32melse\u001b[0m\u001b[1;33m:\u001b[0m\u001b[1;33m\u001b[0m\u001b[0m\n\u001b[0;32m   4401\u001b[0m             \u001b[1;32mif\u001b[0m \u001b[0mon\u001b[0m \u001b[1;32mis\u001b[0m \u001b[1;32mnot\u001b[0m \u001b[1;32mNone\u001b[0m\u001b[1;33m:\u001b[0m\u001b[1;33m\u001b[0m\u001b[0m\n",
      "\u001b[1;32m/home/hyunsu/anaconda3/lib/python3.5/site-packages/pandas/tools/merge.py\u001b[0m in \u001b[0;36mmerge\u001b[1;34m(left, right, how, on, left_on, right_on, left_index, right_index, sort, suffixes, copy, indicator)\u001b[0m\n\u001b[0;32m     37\u001b[0m                          \u001b[0mright_index\u001b[0m\u001b[1;33m=\u001b[0m\u001b[0mright_index\u001b[0m\u001b[1;33m,\u001b[0m \u001b[0msort\u001b[0m\u001b[1;33m=\u001b[0m\u001b[0msort\u001b[0m\u001b[1;33m,\u001b[0m \u001b[0msuffixes\u001b[0m\u001b[1;33m=\u001b[0m\u001b[0msuffixes\u001b[0m\u001b[1;33m,\u001b[0m\u001b[1;33m\u001b[0m\u001b[0m\n\u001b[0;32m     38\u001b[0m                          copy=copy, indicator=indicator)\n\u001b[1;32m---> 39\u001b[1;33m     \u001b[1;32mreturn\u001b[0m \u001b[0mop\u001b[0m\u001b[1;33m.\u001b[0m\u001b[0mget_result\u001b[0m\u001b[1;33m(\u001b[0m\u001b[1;33m)\u001b[0m\u001b[1;33m\u001b[0m\u001b[0m\n\u001b[0m\u001b[0;32m     40\u001b[0m \u001b[1;32mif\u001b[0m \u001b[0m__debug__\u001b[0m\u001b[1;33m:\u001b[0m\u001b[1;33m\u001b[0m\u001b[0m\n\u001b[0;32m     41\u001b[0m     \u001b[0mmerge\u001b[0m\u001b[1;33m.\u001b[0m\u001b[0m__doc__\u001b[0m \u001b[1;33m=\u001b[0m \u001b[0m_merge_doc\u001b[0m \u001b[1;33m%\u001b[0m \u001b[1;34m'\\nleft : DataFrame'\u001b[0m\u001b[1;33m\u001b[0m\u001b[0m\n",
      "\u001b[1;32m/home/hyunsu/anaconda3/lib/python3.5/site-packages/pandas/tools/merge.py\u001b[0m in \u001b[0;36mget_result\u001b[1;34m(self)\u001b[0m\n\u001b[0;32m    221\u001b[0m \u001b[1;33m\u001b[0m\u001b[0m\n\u001b[0;32m    222\u001b[0m         llabels, rlabels = items_overlap_with_suffix(ldata.items, lsuf,\n\u001b[1;32m--> 223\u001b[1;33m                                                      rdata.items, rsuf)\n\u001b[0m\u001b[0;32m    224\u001b[0m \u001b[1;33m\u001b[0m\u001b[0m\n\u001b[0;32m    225\u001b[0m         \u001b[0mlindexers\u001b[0m \u001b[1;33m=\u001b[0m \u001b[1;33m{\u001b[0m\u001b[1;36m1\u001b[0m\u001b[1;33m:\u001b[0m \u001b[0mleft_indexer\u001b[0m\u001b[1;33m}\u001b[0m \u001b[1;32mif\u001b[0m \u001b[0mleft_indexer\u001b[0m \u001b[1;32mis\u001b[0m \u001b[1;32mnot\u001b[0m \u001b[1;32mNone\u001b[0m \u001b[1;32melse\u001b[0m \u001b[1;33m{\u001b[0m\u001b[1;33m}\u001b[0m\u001b[1;33m\u001b[0m\u001b[0m\n",
      "\u001b[1;32m/home/hyunsu/anaconda3/lib/python3.5/site-packages/pandas/core/internals.py\u001b[0m in \u001b[0;36mitems_overlap_with_suffix\u001b[1;34m(left, lsuffix, right, rsuffix)\u001b[0m\n\u001b[0;32m   4443\u001b[0m         \u001b[1;32mif\u001b[0m \u001b[1;32mnot\u001b[0m \u001b[0mlsuffix\u001b[0m \u001b[1;32mand\u001b[0m \u001b[1;32mnot\u001b[0m \u001b[0mrsuffix\u001b[0m\u001b[1;33m:\u001b[0m\u001b[1;33m\u001b[0m\u001b[0m\n\u001b[0;32m   4444\u001b[0m             raise ValueError('columns overlap but no suffix specified: %s' %\n\u001b[1;32m-> 4445\u001b[1;33m                              to_rename)\n\u001b[0m\u001b[0;32m   4446\u001b[0m \u001b[1;33m\u001b[0m\u001b[0m\n\u001b[0;32m   4447\u001b[0m         \u001b[1;32mdef\u001b[0m \u001b[0mlrenamer\u001b[0m\u001b[1;33m(\u001b[0m\u001b[0mx\u001b[0m\u001b[1;33m)\u001b[0m\u001b[1;33m:\u001b[0m\u001b[1;33m\u001b[0m\u001b[0m\n",
      "\u001b[1;31mValueError\u001b[0m: columns overlap but no suffix specified: Index(['ExIn'], dtype='object')"
     ]
    }
   ],
   "source": [
    "def dis_EI(cre_line): # labelling for excitory vs inbihitory cre line\n",
    "    output = []\n",
    "    for item in cre_line:\n",
    "        if (item == 'Pvalb-IRES-Cre' or item == 'Sst-IRES-Cre' or\n",
    "            item == 'Htr3a-Cre_NO152' or item == 'Vip-IRES-Cre' or\n",
    "            item == 'Gad2-IRES-Cre'):\n",
    "                output = output + ['I']\n",
    "        else:\n",
    "            output = output + ['E']\n",
    "    return output\n",
    "ExIn = []\n",
    "ExIn = dis_EI(data_cre['line_name']) # this is python list!!\n",
    "ExIn_pd = pd.DataFrame({'ExIn': ExIn}) # making pandas frame\n",
    "data_cre = data_cre.join(ExIn_pd)\n"
   ]
  },
  {
   "cell_type": "markdown",
   "metadata": {},
   "source": [
    "## subsetting data - only electrophysiological component for comparision"
   ]
  },
  {
   "cell_type": "code",
   "execution_count": 23,
   "metadata": {
    "collapsed": false
   },
   "outputs": [
    {
     "data": {
      "text/html": [
       "<div>\n",
       "<table border=\"1\" class=\"dataframe\">\n",
       "  <thead>\n",
       "    <tr style=\"text-align: right;\">\n",
       "      <th></th>\n",
       "      <th>ef__upstroke_downstroke_ratio_long_square</th>\n",
       "      <th>ef__adaptation</th>\n",
       "      <th>ef__f_i_curve_slope</th>\n",
       "      <th>ef__threshold_i_long_square</th>\n",
       "      <th>ef__tau</th>\n",
       "      <th>ef__avg_isi</th>\n",
       "      <th>ef__avg_firing_rate</th>\n",
       "      <th>ef__ri</th>\n",
       "      <th>ef__peak_t_ramp</th>\n",
       "      <th>ef__vrest</th>\n",
       "      <th>line_name</th>\n",
       "      <th>ExIn</th>\n",
       "    </tr>\n",
       "  </thead>\n",
       "  <tbody>\n",
       "    <tr>\n",
       "      <th>0</th>\n",
       "      <td>5.261166</td>\n",
       "      <td>0.288858</td>\n",
       "      <td>0.159756</td>\n",
       "      <td>190.0</td>\n",
       "      <td>17.653078</td>\n",
       "      <td>147.790000</td>\n",
       "      <td>6.766358</td>\n",
       "      <td>58.281287</td>\n",
       "      <td>2.552270</td>\n",
       "      <td>-63.574978</td>\n",
       "      <td>Scnn1a-Tg2-Cre</td>\n",
       "      <td>E</td>\n",
       "    </tr>\n",
       "    <tr>\n",
       "      <th>1</th>\n",
       "      <td>4.957590</td>\n",
       "      <td>0.097034</td>\n",
       "      <td>0.042555</td>\n",
       "      <td>130.0</td>\n",
       "      <td>21.290832</td>\n",
       "      <td>106.357500</td>\n",
       "      <td>9.402252</td>\n",
       "      <td>189.375005</td>\n",
       "      <td>2.475857</td>\n",
       "      <td>-72.237417</td>\n",
       "      <td>Rorb-IRES2-Cre</td>\n",
       "      <td>E</td>\n",
       "    </tr>\n",
       "    <tr>\n",
       "      <th>2</th>\n",
       "      <td>4.843871</td>\n",
       "      <td>0.026744</td>\n",
       "      <td>0.122172</td>\n",
       "      <td>230.0</td>\n",
       "      <td>6.668957</td>\n",
       "      <td>112.607500</td>\n",
       "      <td>8.880403</td>\n",
       "      <td>106.250000</td>\n",
       "      <td>12.004272</td>\n",
       "      <td>-78.260158</td>\n",
       "      <td>Htr3a-Cre_NO152</td>\n",
       "      <td>I</td>\n",
       "    </tr>\n",
       "    <tr>\n",
       "      <th>3</th>\n",
       "      <td>4.815331</td>\n",
       "      <td>NaN</td>\n",
       "      <td>0.006781</td>\n",
       "      <td>130.0</td>\n",
       "      <td>22.450481</td>\n",
       "      <td>140.730000</td>\n",
       "      <td>7.105805</td>\n",
       "      <td>151.562640</td>\n",
       "      <td>2.939443</td>\n",
       "      <td>-77.838111</td>\n",
       "      <td>Cux2-CreERT2</td>\n",
       "      <td>E</td>\n",
       "    </tr>\n",
       "    <tr>\n",
       "      <th>4</th>\n",
       "      <td>4.756384</td>\n",
       "      <td>0.022992</td>\n",
       "      <td>0.245112</td>\n",
       "      <td>50.0</td>\n",
       "      <td>28.245981</td>\n",
       "      <td>57.503437</td>\n",
       "      <td>17.390265</td>\n",
       "      <td>199.375002</td>\n",
       "      <td>2.150840</td>\n",
       "      <td>-76.375813</td>\n",
       "      <td>Scnn1a-Tg3-Cre</td>\n",
       "      <td>E</td>\n",
       "    </tr>\n",
       "  </tbody>\n",
       "</table>\n",
       "</div>"
      ],
      "text/plain": [
       "   ef__upstroke_downstroke_ratio_long_square  ef__adaptation  \\\n",
       "0                                   5.261166        0.288858   \n",
       "1                                   4.957590        0.097034   \n",
       "2                                   4.843871        0.026744   \n",
       "3                                   4.815331             NaN   \n",
       "4                                   4.756384        0.022992   \n",
       "\n",
       "   ef__f_i_curve_slope  ef__threshold_i_long_square    ef__tau  ef__avg_isi  \\\n",
       "0             0.159756                        190.0  17.653078   147.790000   \n",
       "1             0.042555                        130.0  21.290832   106.357500   \n",
       "2             0.122172                        230.0   6.668957   112.607500   \n",
       "3             0.006781                        130.0  22.450481   140.730000   \n",
       "4             0.245112                         50.0  28.245981    57.503437   \n",
       "\n",
       "   ef__avg_firing_rate      ef__ri  ef__peak_t_ramp  ef__vrest  \\\n",
       "0             6.766358   58.281287         2.552270 -63.574978   \n",
       "1             9.402252  189.375005         2.475857 -72.237417   \n",
       "2             8.880403  106.250000        12.004272 -78.260158   \n",
       "3             7.105805  151.562640         2.939443 -77.838111   \n",
       "4            17.390265  199.375002         2.150840 -76.375813   \n",
       "\n",
       "         line_name ExIn  \n",
       "0   Scnn1a-Tg2-Cre    E  \n",
       "1   Rorb-IRES2-Cre    E  \n",
       "2  Htr3a-Cre_NO152    I  \n",
       "3     Cux2-CreERT2    E  \n",
       "4   Scnn1a-Tg3-Cre    E  "
      ]
     },
     "execution_count": 23,
     "metadata": {},
     "output_type": "execute_result"
    }
   ],
   "source": [
    "\n",
    "data_sub = data_cre.iloc[:,17:27]\n",
    "data_sub = data_sub.join(data_cre.iloc[:, 0])\n",
    "data_sub = data_sub.join(data_cre.iloc[:, 44])\n",
    "data_sub.head()"
   ]
  },
  {
   "cell_type": "markdown",
   "metadata": {},
   "source": [
    "### value counts"
   ]
  },
  {
   "cell_type": "code",
   "execution_count": 24,
   "metadata": {
    "collapsed": false
   },
   "outputs": [
    {
     "data": {
      "text/html": [
       "<div>\n",
       "<table border=\"1\" class=\"dataframe\">\n",
       "  <thead>\n",
       "    <tr style=\"text-align: right;\">\n",
       "      <th></th>\n",
       "      <th>line_name</th>\n",
       "    </tr>\n",
       "  </thead>\n",
       "  <tbody>\n",
       "    <tr>\n",
       "      <th>Pvalb-IRES-Cre</th>\n",
       "      <td>139</td>\n",
       "    </tr>\n",
       "    <tr>\n",
       "      <th>Sst-IRES-Cre</th>\n",
       "      <td>108</td>\n",
       "    </tr>\n",
       "    <tr>\n",
       "      <th>Htr3a-Cre_NO152</th>\n",
       "      <td>78</td>\n",
       "    </tr>\n",
       "    <tr>\n",
       "      <th>Rorb-IRES2-Cre</th>\n",
       "      <td>70</td>\n",
       "    </tr>\n",
       "    <tr>\n",
       "      <th>Rbp4-Cre_KL100</th>\n",
       "      <td>49</td>\n",
       "    </tr>\n",
       "    <tr>\n",
       "      <th>Cux2-CreERT2</th>\n",
       "      <td>44</td>\n",
       "    </tr>\n",
       "    <tr>\n",
       "      <th>Nr5a1-Cre</th>\n",
       "      <td>40</td>\n",
       "    </tr>\n",
       "    <tr>\n",
       "      <th>Scnn1a-Tg3-Cre</th>\n",
       "      <td>33</td>\n",
       "    </tr>\n",
       "    <tr>\n",
       "      <th>Ntsr1-Cre_GN220</th>\n",
       "      <td>19</td>\n",
       "    </tr>\n",
       "    <tr>\n",
       "      <th>Scnn1a-Tg2-Cre</th>\n",
       "      <td>15</td>\n",
       "    </tr>\n",
       "    <tr>\n",
       "      <th>Gad2-IRES-Cre</th>\n",
       "      <td>11</td>\n",
       "    </tr>\n",
       "    <tr>\n",
       "      <th>Slc17a6-IRES-Cre</th>\n",
       "      <td>3</td>\n",
       "    </tr>\n",
       "    <tr>\n",
       "      <th>Ntsr1-Cre</th>\n",
       "      <td>2</td>\n",
       "    </tr>\n",
       "    <tr>\n",
       "      <th>Ctgf-2A-dgCre</th>\n",
       "      <td>2</td>\n",
       "    </tr>\n",
       "    <tr>\n",
       "      <th>Vip-IRES-Cre</th>\n",
       "      <td>2</td>\n",
       "    </tr>\n",
       "  </tbody>\n",
       "</table>\n",
       "</div>"
      ],
      "text/plain": [
       "                  line_name\n",
       "Pvalb-IRES-Cre          139\n",
       "Sst-IRES-Cre            108\n",
       "Htr3a-Cre_NO152          78\n",
       "Rorb-IRES2-Cre           70\n",
       "Rbp4-Cre_KL100           49\n",
       "Cux2-CreERT2             44\n",
       "Nr5a1-Cre                40\n",
       "Scnn1a-Tg3-Cre           33\n",
       "Ntsr1-Cre_GN220          19\n",
       "Scnn1a-Tg2-Cre           15\n",
       "Gad2-IRES-Cre            11\n",
       "Slc17a6-IRES-Cre          3\n",
       "Ntsr1-Cre                 2\n",
       "Ctgf-2A-dgCre             2\n",
       "Vip-IRES-Cre              2"
      ]
     },
     "execution_count": 24,
     "metadata": {},
     "output_type": "execute_result"
    }
   ],
   "source": [
    "line_name_freq = pd.DataFrame(data_sub['line_name'].value_counts())\n",
    "line_name_freq"
   ]
  },
  {
   "cell_type": "code",
   "execution_count": 26,
   "metadata": {
    "collapsed": false
   },
   "outputs": [
    {
     "data": {
      "text/html": [
       "<div>\n",
       "<table border=\"1\" class=\"dataframe\">\n",
       "  <thead>\n",
       "    <tr style=\"text-align: right;\">\n",
       "      <th></th>\n",
       "      <th>ExIn</th>\n",
       "    </tr>\n",
       "  </thead>\n",
       "  <tbody>\n",
       "    <tr>\n",
       "      <th>I</th>\n",
       "      <td>308</td>\n",
       "    </tr>\n",
       "    <tr>\n",
       "      <th>E</th>\n",
       "      <td>242</td>\n",
       "    </tr>\n",
       "  </tbody>\n",
       "</table>\n",
       "</div>"
      ],
      "text/plain": [
       "   ExIn\n",
       "I   308\n",
       "E   242"
      ]
     },
     "execution_count": 26,
     "metadata": {},
     "output_type": "execute_result"
    }
   ],
   "source": [
    "ExIn_freq = pd.DataFrame(data_sub['ExIn'].value_counts())\n",
    "ExIn_freq"
   ]
  },
  {
   "cell_type": "code",
   "execution_count": 34,
   "metadata": {
    "collapsed": false
   },
   "outputs": [
    {
     "data": {
      "text/plain": [
       "242"
      ]
     },
     "execution_count": 34,
     "metadata": {},
     "output_type": "execute_result"
    }
   ],
   "source": [
    "data_sub_E = data_sub[data_sub['ExIn'] == 'E']\n",
    "len(data_sub_E)"
   ]
  },
  {
   "cell_type": "code",
   "execution_count": 35,
   "metadata": {
    "collapsed": false
   },
   "outputs": [
    {
     "data": {
      "text/plain": [
       "308"
      ]
     },
     "execution_count": 35,
     "metadata": {},
     "output_type": "execute_result"
    }
   ],
   "source": [
    "data_sub_I = data_sub[data_sub['ExIn'] == 'I']\n",
    "len(data_sub_I)"
   ]
  },
  {
   "cell_type": "code",
   "execution_count": 36,
   "metadata": {
    "collapsed": false
   },
   "outputs": [
    {
     "data": {
      "text/plain": [
       "ef__upstroke_downstroke_ratio_long_square      3.463708\n",
       "ef__adaptation                                 0.061771\n",
       "ef__f_i_curve_slope                            0.175076\n",
       "ef__threshold_i_long_square                  129.173553\n",
       "ef__tau                                       19.402332\n",
       "ef__avg_isi                                   88.390272\n",
       "ef__avg_firing_rate                           13.937327\n",
       "ef__ri                                       164.553576\n",
       "ef__peak_t_ramp                                4.318287\n",
       "ef__vrest                                    -74.339143\n",
       "dtype: float64"
      ]
     },
     "execution_count": 36,
     "metadata": {},
     "output_type": "execute_result"
    }
   ],
   "source": [
    "data_sub_E.mean(0)"
   ]
  },
  {
   "cell_type": "code",
   "execution_count": 37,
   "metadata": {
    "collapsed": false
   },
   "outputs": [
    {
     "data": {
      "text/plain": [
       "ef__upstroke_downstroke_ratio_long_square      1.974728\n",
       "ef__adaptation                                 0.042603\n",
       "ef__f_i_curve_slope                            0.436578\n",
       "ef__threshold_i_long_square                  158.490259\n",
       "ef__tau                                       16.754750\n",
       "ef__avg_isi                                   45.242125\n",
       "ef__avg_firing_rate                           43.495115\n",
       "ef__ri                                       188.491038\n",
       "ef__peak_t_ramp                                6.336382\n",
       "ef__vrest                                    -71.953926\n",
       "dtype: float64"
      ]
     },
     "execution_count": 37,
     "metadata": {},
     "output_type": "execute_result"
    }
   ],
   "source": [
    "data_sub_I.mean(0)"
   ]
  },
  {
   "cell_type": "code",
   "execution_count": 40,
   "metadata": {
    "collapsed": false
   },
   "outputs": [
    {
     "data": {
      "text/plain": [
       "ef__upstroke_downstroke_ratio_long_square     0.547509\n",
       "ef__adaptation                                0.068820\n",
       "ef__f_i_curve_slope                           0.084239\n",
       "ef__threshold_i_long_square                  74.255214\n",
       "ef__tau                                       8.296157\n",
       "ef__avg_isi                                  48.023374\n",
       "ef__avg_firing_rate                           7.186785\n",
       "ef__ri                                       59.686916\n",
       "ef__peak_t_ramp                               2.363933\n",
       "ef__vrest                                     4.785310\n",
       "dtype: float64"
      ]
     },
     "execution_count": 40,
     "metadata": {},
     "output_type": "execute_result"
    }
   ],
   "source": [
    "data_sub_E.std(0)"
   ]
  },
  {
   "cell_type": "code",
   "execution_count": 41,
   "metadata": {
    "collapsed": false
   },
   "outputs": [
    {
     "data": {
      "text/plain": [
       "ef__upstroke_downstroke_ratio_long_square      0.713841\n",
       "ef__adaptation                                 0.076055\n",
       "ef__f_i_curve_slope                            0.370664\n",
       "ef__threshold_i_long_square                  123.178890\n",
       "ef__tau                                       10.838854\n",
       "ef__avg_isi                                   40.207535\n",
       "ef__avg_firing_rate                           38.633299\n",
       "ef__ri                                        95.048258\n",
       "ef__peak_t_ramp                                4.747852\n",
       "ef__vrest                                      5.263367\n",
       "dtype: float64"
      ]
     },
     "execution_count": 41,
     "metadata": {},
     "output_type": "execute_result"
    }
   ],
   "source": [
    "data_sub_I.std(0)"
   ]
  },
  {
   "cell_type": "code",
   "execution_count": 43,
   "metadata": {
    "collapsed": false
   },
   "outputs": [
    {
     "name": "stderr",
     "output_type": "stream",
     "text": [
      "/home/hyunsu/anaconda3/lib/python3.5/site-packages/numpy/lib/function_base.py:3823: RuntimeWarning: Invalid value encountered in percentile\n",
      "  RuntimeWarning)\n"
     ]
    },
    {
     "data": {
      "text/html": [
       "<div>\n",
       "<table border=\"1\" class=\"dataframe\">\n",
       "  <thead>\n",
       "    <tr style=\"text-align: right;\">\n",
       "      <th></th>\n",
       "      <th>ef__upstroke_downstroke_ratio_long_square</th>\n",
       "      <th>ef__adaptation</th>\n",
       "      <th>ef__f_i_curve_slope</th>\n",
       "      <th>ef__threshold_i_long_square</th>\n",
       "      <th>ef__tau</th>\n",
       "      <th>ef__avg_isi</th>\n",
       "      <th>ef__avg_firing_rate</th>\n",
       "      <th>ef__ri</th>\n",
       "      <th>ef__peak_t_ramp</th>\n",
       "      <th>ef__vrest</th>\n",
       "    </tr>\n",
       "  </thead>\n",
       "  <tbody>\n",
       "    <tr>\n",
       "      <th>count</th>\n",
       "      <td>615.000000</td>\n",
       "      <td>502.000000</td>\n",
       "      <td>615.000000</td>\n",
       "      <td>615.000000</td>\n",
       "      <td>615.000000</td>\n",
       "      <td>573.000000</td>\n",
       "      <td>573.000000</td>\n",
       "      <td>615.000000</td>\n",
       "      <td>579.000000</td>\n",
       "      <td>615.000000</td>\n",
       "    </tr>\n",
       "    <tr>\n",
       "      <th>mean</th>\n",
       "      <td>2.470953</td>\n",
       "      <td>0.046840</td>\n",
       "      <td>0.391070</td>\n",
       "      <td>164.658536</td>\n",
       "      <td>16.776006</td>\n",
       "      <td>60.449486</td>\n",
       "      <td>36.389130</td>\n",
       "      <td>170.094651</td>\n",
       "      <td>6.110615</td>\n",
       "      <td>-73.136684</td>\n",
       "    </tr>\n",
       "    <tr>\n",
       "      <th>std</th>\n",
       "      <td>1.037507</td>\n",
       "      <td>0.072595</td>\n",
       "      <td>0.392468</td>\n",
       "      <td>122.713473</td>\n",
       "      <td>9.966241</td>\n",
       "      <td>50.028697</td>\n",
       "      <td>39.240043</td>\n",
       "      <td>82.205505</td>\n",
       "      <td>4.628768</td>\n",
       "      <td>5.111332</td>\n",
       "    </tr>\n",
       "    <tr>\n",
       "      <th>min</th>\n",
       "      <td>0.862726</td>\n",
       "      <td>-0.204913</td>\n",
       "      <td>-0.015048</td>\n",
       "      <td>10.000000</td>\n",
       "      <td>3.467032</td>\n",
       "      <td>3.828333</td>\n",
       "      <td>1.976792</td>\n",
       "      <td>36.562462</td>\n",
       "      <td>0.284310</td>\n",
       "      <td>-85.449162</td>\n",
       "    </tr>\n",
       "    <tr>\n",
       "      <th>25%</th>\n",
       "      <td>1.447692</td>\n",
       "      <td>NaN</td>\n",
       "      <td>0.145817</td>\n",
       "      <td>70.000000</td>\n",
       "      <td>8.356607</td>\n",
       "      <td>NaN</td>\n",
       "      <td>NaN</td>\n",
       "      <td>111.796895</td>\n",
       "      <td>NaN</td>\n",
       "      <td>-76.837734</td>\n",
       "    </tr>\n",
       "    <tr>\n",
       "      <th>50%</th>\n",
       "      <td>2.459218</td>\n",
       "      <td>NaN</td>\n",
       "      <td>0.220765</td>\n",
       "      <td>130.000000</td>\n",
       "      <td>15.918908</td>\n",
       "      <td>NaN</td>\n",
       "      <td>NaN</td>\n",
       "      <td>154.374963</td>\n",
       "      <td>NaN</td>\n",
       "      <td>-73.601509</td>\n",
       "    </tr>\n",
       "    <tr>\n",
       "      <th>75%</th>\n",
       "      <td>3.346059</td>\n",
       "      <td>NaN</td>\n",
       "      <td>0.498809</td>\n",
       "      <td>220.000000</td>\n",
       "      <td>22.312366</td>\n",
       "      <td>NaN</td>\n",
       "      <td>NaN</td>\n",
       "      <td>206.796877</td>\n",
       "      <td>NaN</td>\n",
       "      <td>-70.243455</td>\n",
       "    </tr>\n",
       "    <tr>\n",
       "      <th>max</th>\n",
       "      <td>5.261166</td>\n",
       "      <td>0.586461</td>\n",
       "      <td>2.382667</td>\n",
       "      <td>800.000000</td>\n",
       "      <td>90.353511</td>\n",
       "      <td>505.870000</td>\n",
       "      <td>261.210274</td>\n",
       "      <td>570.312446</td>\n",
       "      <td>28.140622</td>\n",
       "      <td>-50.776325</td>\n",
       "    </tr>\n",
       "  </tbody>\n",
       "</table>\n",
       "</div>"
      ],
      "text/plain": [
       "       ef__upstroke_downstroke_ratio_long_square  ef__adaptation  \\\n",
       "count                                 615.000000      502.000000   \n",
       "mean                                    2.470953        0.046840   \n",
       "std                                     1.037507        0.072595   \n",
       "min                                     0.862726       -0.204913   \n",
       "25%                                     1.447692             NaN   \n",
       "50%                                     2.459218             NaN   \n",
       "75%                                     3.346059             NaN   \n",
       "max                                     5.261166        0.586461   \n",
       "\n",
       "       ef__f_i_curve_slope  ef__threshold_i_long_square     ef__tau  \\\n",
       "count           615.000000                   615.000000  615.000000   \n",
       "mean              0.391070                   164.658536   16.776006   \n",
       "std               0.392468                   122.713473    9.966241   \n",
       "min              -0.015048                    10.000000    3.467032   \n",
       "25%               0.145817                    70.000000    8.356607   \n",
       "50%               0.220765                   130.000000   15.918908   \n",
       "75%               0.498809                   220.000000   22.312366   \n",
       "max               2.382667                   800.000000   90.353511   \n",
       "\n",
       "       ef__avg_isi  ef__avg_firing_rate      ef__ri  ef__peak_t_ramp  \\\n",
       "count   573.000000           573.000000  615.000000       579.000000   \n",
       "mean     60.449486            36.389130  170.094651         6.110615   \n",
       "std      50.028697            39.240043   82.205505         4.628768   \n",
       "min       3.828333             1.976792   36.562462         0.284310   \n",
       "25%            NaN                  NaN  111.796895              NaN   \n",
       "50%            NaN                  NaN  154.374963              NaN   \n",
       "75%            NaN                  NaN  206.796877              NaN   \n",
       "max     505.870000           261.210274  570.312446        28.140622   \n",
       "\n",
       "        ef__vrest  \n",
       "count  615.000000  \n",
       "mean   -73.136684  \n",
       "std      5.111332  \n",
       "min    -85.449162  \n",
       "25%    -76.837734  \n",
       "50%    -73.601509  \n",
       "75%    -70.243455  \n",
       "max    -50.776325  "
      ]
     },
     "execution_count": 43,
     "metadata": {},
     "output_type": "execute_result"
    }
   ],
   "source": [
    "data_sub.describe()"
   ]
  }
 ],
 "metadata": {
  "anaconda-cloud": {},
  "kernelspec": {
   "display_name": "Python [Root]",
   "language": "python",
   "name": "Python [Root]"
  },
  "language_info": {
   "codemirror_mode": {
    "name": "ipython",
    "version": 3
   },
   "file_extension": ".py",
   "mimetype": "text/x-python",
   "name": "python",
   "nbconvert_exporter": "python",
   "pygments_lexer": "ipython3",
   "version": "3.5.1"
  }
 },
 "nbformat": 4,
 "nbformat_minor": 0
}
